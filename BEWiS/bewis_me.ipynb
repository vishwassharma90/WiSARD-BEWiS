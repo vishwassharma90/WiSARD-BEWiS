{
 "cells": [
  {
   "cell_type": "code",
   "execution_count": 1,
   "metadata": {},
   "outputs": [],
   "source": [
    "#Numba#"
   ]
  },
  {
   "cell_type": "code",
   "execution_count": 1,
   "metadata": {},
   "outputs": [
    {
     "data": {
      "text/plain": [
       "'\\n    print(frame.shape)\\n    for p in itertools.product(range(frame.shape[0]),range(frame.shape[1])):\\n        print (p)\\n        #r,g,b = frame[p[0],p[1],:]\\n        #a = np.zeros((256,3))\\n        #a[0:r,0] = 1  \\n        #a[0:g,1] = 1\\n        #a[0:b,2] = 1\\n'"
      ]
     },
     "execution_count": 1,
     "metadata": {},
     "output_type": "execute_result"
    }
   ],
   "source": [
    "from numba import njit,jit\n",
    "import numpy as np\n",
    "import cv2\n",
    "import itertools\n",
    "\n",
    "cap = cv2.VideoCapture('bird.avi')\n",
    "\n",
    "quesize = 10\n",
    "stabilityqueue = np.zeros((480,640,quesize,3),dtype=np.int32)\n",
    "w = np.zeros((480,640),dtype=np.int32)\n",
    "ID = np.zeros((480,640),dtype=np.int32)\n",
    "queueLimits = np.zeros((480,640,2),dtype=np.int32)\n",
    "#print(stabilityqueue[:,:,0,:].shape)\n",
    "\n",
    "#@njit\n",
    "def IsFoundinStabilityQueue(pixel,i,j):\n",
    "    for queueIndex in range(queueLimits[i,j,0],queueLimits[i,j,1]):\n",
    "        queuevalue = np.reshape(stabilityqueue[i,j,queueIndex,:],(3,1))\n",
    "        if queuevalue[0][0]==pixel[0][0] and queuevalue[1][0]==pixel[1][0] and queuevalue[2][0]==pixel[2][0]:\n",
    "            return True\n",
    "    return False\n",
    "    \n",
    "#@njit\n",
    "def bewis(frame):\n",
    "    for i in range(frame.shape[0]):\n",
    "        for j in range(frame.shape[1]):\n",
    "            r,g,b = frame[i,j,:]\n",
    "            #create binary endoder for each pixel\n",
    "            a = np.zeros((256,3))\n",
    "            a[0:r,0] = 1\n",
    "            a[0:g,1] = 1\n",
    "            a[0:b,2] = 1\n",
    "            #check if pixel color is in front of stability queue\n",
    "            front = np.reshape(stabilityqueue[i,j,queueLimits[i,j,0],:],(3,1)) \n",
    "            pixel = np.reshape(frame[i,j,:],(3,1))\n",
    "            if front[0][0]==pixel[0][0] and front[1][0]==pixel[1][0] and front[2][0]==pixel[2][0]:\n",
    "                w[i][j] += ID[i][j]\n",
    "                ID[i,j] += 1\n",
    "            elif IsFoundinStabilityQueue(pixel,i,j):\n",
    "                #move it to front of queue\n",
    "                ID[i,j] = 1\n",
    "            else:\n",
    "                x=0 \n",
    "                #insert it in front of the queue(with w = 0 abnd id = 1)\n",
    "                #remove last element of queue\n",
    "                \n",
    "            #if pixel color in front of the queue has w > k:\n",
    "                #use binary pattern to train wisardrp by reward and punishment\n",
    "                \n",
    "                \n",
    "                \n",
    "                        \n",
    "while(True):\n",
    "    ret, frame = cap.read()\n",
    "    # Display the resulting frame\n",
    "    cv2.imshow('frame',frame)\n",
    "    #print(frame.shape)\n",
    "    bewis(frame)\n",
    "    if cv2.waitKey(1) & 0xFF == ord('q'):\n",
    "        break\n",
    "\n",
    "# When everything done, release the capture\n",
    "cap.release()\n",
    "cv2.destroyAllWindows()\n",
    "\n",
    "\n",
    "'''\n",
    "    print(frame.shape)\n",
    "    for p in itertools.product(range(frame.shape[0]),range(frame.shape[1])):\n",
    "        print (p)\n",
    "        #r,g,b = frame[p[0],p[1],:]\n",
    "        #a = np.zeros((256,3))\n",
    "        #a[0:r,0] = 1  \n",
    "        #a[0:g,1] = 1\n",
    "        #a[0:b,2] = 1\n",
    "'''"
   ]
  },
  {
   "cell_type": "code",
   "execution_count": null,
   "metadata": {},
   "outputs": [],
   "source": []
  },
  {
   "cell_type": "code",
   "execution_count": null,
   "metadata": {},
   "outputs": [],
   "source": []
  },
  {
   "cell_type": "code",
   "execution_count": 92,
   "metadata": {},
   "outputs": [],
   "source": [
    "import time\n",
    "from numba import njit,prange,vectorize,int32,float64,int64\n",
    "import numpy as np\n",
    "import random\n",
    "import tensorflow as tf"
   ]
  },
  {
   "cell_type": "code",
   "execution_count": 7,
   "metadata": {},
   "outputs": [],
   "source": [
    "def preprocessing(tx_train, ty_train, tx_test, ty_test):\n",
    "        \n",
    "    py_train = ty_train.flatten()\n",
    "    py_test = ty_test.flatten()\n",
    "    \n",
    "    px_test = tx_test.reshape(10000,input_size)\n",
    "    px_train = tx_train.reshape(60000,input_size)\n",
    "    \n",
    "    px_train = np.asarray(px_train).astype(np.int32)\n",
    "    py_train = np.asarray(py_train).astype(np.int32)\n",
    "    px_test = np.asarray(px_test).astype(np.int32)\n",
    "    py_test = np.asarray(py_test).astype(np.int32)\n",
    "\n",
    "    return px_train, py_train, px_test, py_test   \n"
   ]
  },
  {
   "cell_type": "code",
   "execution_count": 8,
   "metadata": {},
   "outputs": [],
   "source": [
    "class WiSARDrp:                                                     \n",
    "    \n",
    "    def __init__(self,input_size,no_of_rand_pix_selec,nodes,ram_address_count,dis_number):\n",
    "        self.input_size = input_size\n",
    "        self.no_of_rand_pix_selec = no_of_rand_pix_selec\n",
    "        self.nodes = nodes\n",
    "        self.ram_address_count = ram_address_count\n",
    "        self.dis_number = dis_number \n",
    "\n",
    "\n",
    "    def discriminator(self):\n",
    "        discriminator = []\n",
    "        accumulated_pos = []\n",
    "        my_list = list(range(0,self.input_size))\n",
    "        for i in range(self.dis_number):  #10\n",
    "            ram = []\n",
    "            random.shuffle(my_list)\n",
    "            for j in range((int)((self.nodes))): #98    \n",
    "                total_pos = []            \n",
    "                positions = []\n",
    "                positions = my_list[j*no_of_rand_pix_selec:j*no_of_rand_pix_selec+no_of_rand_pix_selec]\n",
    "                accumulated_pos.append(positions)\n",
    "                total_pos = np.vstack(positions)\n",
    "                #print(total_pos)\n",
    "                table = []\n",
    "                dictionary = {}\n",
    "                \n",
    "                max = len(\"{0:b}\".format(2**len(total_pos))) - 1\n",
    "                for i in range(2**len(total_pos)):\n",
    "                    x = (('0' * max) + \"{0:b}\".format(i))\n",
    "                    x = x[len(x)-max:]\n",
    "                    dictionary[x] = 0\n",
    "                table.append(dictionary)\n",
    "                #print(table)\n",
    "                ram.append(table)\n",
    "        \n",
    "            di = []\n",
    "            for j in range(len(ram)):\n",
    "                for i in range(len(ram[j])):\n",
    "                    for key, value in ram[j][i].items():\n",
    "                        temp = [key,value]\n",
    "                        di.append(temp)\n",
    "                        \n",
    "            discriminator.append(di)\n",
    "    \n",
    "        discriminator = np.asarray(discriminator).astype(np.int32)\n",
    "        accumulated_pos = np.asarray(accumulated_pos).astype(np.int32)\n",
    "        return discriminator, accumulated_pos\n",
    "    \n",
    "                        \n",
    "    \n",
    "    @staticmethod\n",
    "    @njit(parallel = True)\n",
    "    def train_with_bleeching(d,pos,x_train, y_train):\n",
    "        \n",
    "        images = x_train\n",
    "        lable = y_train    \n",
    "        \n",
    "        for i in range(len(images)):\n",
    "            image = images[i]\n",
    "            num = lable[i]\n",
    "            all_ram_of_selected_discriminator = d[num]\n",
    "            t_ratina = pos[(int)(nodes*num):(int)(nodes*num+nodes)]\n",
    "            \n",
    "            for i in range((int)(nodes)):\n",
    "                part = all_ram_of_selected_discriminator[(ram_address_count*i):(ram_address_count*i+ram_address_count)]\n",
    "                ratina_for_one_ram = t_ratina[i]\n",
    "                \n",
    "                #threshold = 0               \n",
    "                n = []                                                                \n",
    "                for ix in range(len(ratina_for_one_ram)):\n",
    "                    pix = ratina_for_one_ram[ix]\n",
    "                    if image[(pix-1)]>=1:\n",
    "                        n.append(1)\n",
    "                        #threshold = threshold + 1     \n",
    "                    else:\n",
    "                        n.append(0)\n",
    "                \n",
    "                num = 0\n",
    "                for i in range(no_of_rand_pix_selec):\n",
    "                    num = (n[i])*(10**((no_of_rand_pix_selec-1)-i)) + num\n",
    "            \n",
    "                address_of_that_ram = (int)(num)\n",
    "                for key in range(ram_address_count):\n",
    "                    index = part[key]\n",
    "                    #if threshold >= 1:          \n",
    "                    if index[0] == address_of_that_ram:\n",
    "                        index[1] += 1\n",
    "                    else:\n",
    "                        if index[1] != 0:\n",
    "                            index[1] -= 1\n",
    "\n",
    "\n",
    "\n",
    "    #@vectorize(['int32(int32,int32,int32,int32)'], target = 'cuda')\n",
    "    @staticmethod\n",
    "    @njit(parallel = True)\n",
    "    def test_with_bleaching(d,pos,x_test,y_test):\n",
    "        right = 0\n",
    "        wrong = 0\n",
    "        images = x_test\n",
    "        lable = y_test\n",
    "        ct = 0.02\n",
    "        b=1\n",
    "        \n",
    "        for i in range(len(images)):\n",
    "            image = images[i]\n",
    "            actual_lable = lable[i]\n",
    "            \n",
    "            total_sum=[]\n",
    "            \n",
    "            for ix in range(dis_number):\n",
    "                \n",
    "                t_ratina = pos[int((nodes*ix)):(int)((nodes*ix+nodes))]\n",
    "                \n",
    "                sum_of_ram_output = 0\n",
    "                dis = d[ix]\n",
    "                \n",
    "                for i in range(int(nodes)):\n",
    "                    part = dis[(ram_address_count*i):(ram_address_count*i+ram_address_count)]\n",
    "                    ratina_for_one_ram = t_ratina[i]\n",
    "                    \n",
    "                    n = []                                                                \n",
    "                    for pix in ratina_for_one_ram:\n",
    "                        if image[(pix-1)]>=1:\n",
    "                            n.append(1)\n",
    "                        else:\n",
    "                            n.append(0)\n",
    "                    \n",
    "                    num = 0\n",
    "                    for i in range(no_of_rand_pix_selec):\n",
    "                        num = (n[i])*(10**((no_of_rand_pix_selec-1)-i)) + num\n",
    "                    \n",
    "                    address_of_that_ram = (int)(num)\n",
    "                \n",
    "                    for key in range(len(part)):\n",
    "                        prt = part[key]\n",
    "                        if prt[0] == address_of_that_ram and prt[1]>=b:           #have to change this\n",
    "                            sum_of_ram_output += 1\n",
    "                \n",
    "                total_sum.append(sum_of_ram_output)        \n",
    "        \n",
    "            max_sum = 0\n",
    "            sec_max = 0\n",
    "            idx = 0\n",
    "            \n",
    "            for i in range(len(total_sum)):\n",
    "                if max_sum < total_sum[i]:\n",
    "                    max_sum = total_sum[i]\n",
    "                    idx = i\n",
    "                    \n",
    "            for j in range(len(total_sum)):\n",
    "                if sec_max < total_sum[j] and j!=idx:\n",
    "                    sec_max = total_sum[j]\n",
    "                    \n",
    "            index_of_dis = idx\n",
    "            if index_of_dis == actual_lable:\n",
    "                right += 1\n",
    "            else:\n",
    "                wrong += 1\n",
    "            \n",
    "            if max_sum == sec_max:\n",
    "                confidence = 0\n",
    "            else:\n",
    "                confidence = 1 - float(sec_max)/float(max_sum)\n",
    "                if confidence < ct:\n",
    "                    b += 1\n",
    "        \n",
    "        return right,wrong"
   ]
  },
  {
   "cell_type": "code",
   "execution_count": 9,
   "metadata": {},
   "outputs": [],
   "source": [
    "input_size = 28*28\n",
    "no_of_rand_pix_selec = 2**(3)     ## ** (must) no_of_rand_pix_selec = 2^(n) where n is 0,1,2...\n",
    "nodes = int(input_size/no_of_rand_pix_selec)    #98\n",
    "ram_address_count = 2**(no_of_rand_pix_selec)   #256\n",
    "dis_number = 10                #10 i.e number of lables"
   ]
  },
  {
   "cell_type": "code",
   "execution_count": 10,
   "metadata": {},
   "outputs": [],
   "source": [
    "(tx_train, ty_train), (tx_test, ty_test) = tf.keras.datasets.mnist.load_data()\n",
    "px_train, py_train, px_test, py_test = preprocessing(tx_train, ty_train, tx_test, ty_test)"
   ]
  },
  {
   "cell_type": "code",
   "execution_count": 11,
   "metadata": {},
   "outputs": [
    {
     "name": "stdout",
     "output_type": "stream",
     "text": [
      "(10, 25088, 2)\n"
     ]
    }
   ],
   "source": [
    "w = WiSARDrp(input_size,no_of_rand_pix_selec,nodes,ram_address_count,dis_number)\n",
    "d, acc_pos = w.discriminator()\n",
    "print(d.shape)"
   ]
  },
  {
   "cell_type": "code",
   "execution_count": 12,
   "metadata": {},
   "outputs": [
    {
     "name": "stdout",
     "output_type": "stream",
     "text": [
      "time train =  18.97050166130066\n"
     ]
    }
   ],
   "source": [
    "starttrain = time.time()\n",
    "w.train_with_bleeching(d,acc_pos,px_train[0:60000],py_train[0:60000])\n",
    "endtrain = time.time()\n",
    "print(\"time train = \",endtrain - starttrain)"
   ]
  },
  {
   "cell_type": "code",
   "execution_count": 13,
   "metadata": {},
   "outputs": [
    {
     "name": "stdout",
     "output_type": "stream",
     "text": [
      "time test =  31.408536434173584\n"
     ]
    }
   ],
   "source": [
    "starttest = time.time()\n",
    "right,wrong = w.test_with_bleaching(d,acc_pos,px_test[0:10000],py_test[0:10000])\n",
    "endtest = time.time()\n",
    "print(\"time test = \",endtest - starttest)"
   ]
  },
  {
   "cell_type": "code",
   "execution_count": 14,
   "metadata": {},
   "outputs": [
    {
     "name": "stdout",
     "output_type": "stream",
     "text": [
      "number of right result =  6037\n",
      "number of wrong results =  3963\n",
      "accuracy by testing the model = 60.370000000000005\n"
     ]
    }
   ],
   "source": [
    "print(\"number of right result = \",right)\n",
    "print(\"number of wrong results = \",wrong)\n",
    "accuracy = ((right)/(right+wrong))*100\n",
    "print(\"accuracy by testing the model =\",accuracy)\n",
    "#    end = time.time()\n",
    "#    print(\"total time = \",end - start)"
   ]
  },
  {
   "cell_type": "code",
   "execution_count": null,
   "metadata": {},
   "outputs": [],
   "source": []
  },
  {
   "cell_type": "code",
   "execution_count": null,
   "metadata": {},
   "outputs": [],
   "source": []
  },
  {
   "cell_type": "code",
   "execution_count": null,
   "metadata": {},
   "outputs": [],
   "source": []
  },
  {
   "cell_type": "code",
   "execution_count": null,
   "metadata": {},
   "outputs": [],
   "source": []
  },
  {
   "cell_type": "code",
   "execution_count": null,
   "metadata": {},
   "outputs": [],
   "source": []
  },
  {
   "cell_type": "code",
   "execution_count": 178,
   "metadata": {},
   "outputs": [],
   "source": [
    "stabilityqueue = np.zeros((10,10,10,3),dtype=np.int32)"
   ]
  },
  {
   "cell_type": "code",
   "execution_count": 179,
   "metadata": {},
   "outputs": [],
   "source": [
    "a = np.zeros((10),dtype=np.int32)"
   ]
  },
  {
   "cell_type": "code",
   "execution_count": 180,
   "metadata": {},
   "outputs": [],
   "source": [
    "for i in range(10):\n",
    "    a[i] = i"
   ]
  },
  {
   "cell_type": "code",
   "execution_count": 181,
   "metadata": {},
   "outputs": [
    {
     "data": {
      "text/plain": [
       "array([0, 1, 2, 3, 4, 5, 6, 7, 8, 9], dtype=int32)"
      ]
     },
     "execution_count": 181,
     "metadata": {},
     "output_type": "execute_result"
    }
   ],
   "source": [
    "a"
   ]
  },
  {
   "cell_type": "code",
   "execution_count": 183,
   "metadata": {},
   "outputs": [
    {
     "data": {
      "text/plain": [
       "array([ 5,  6,  7,  8,  9, 10, 11, 12, 13, 14])"
      ]
     },
     "execution_count": 183,
     "metadata": {},
     "output_type": "execute_result"
    }
   ],
   "source": [
    "a1 = [5]\n",
    "c = a1 + a\n",
    "c"
   ]
  },
  {
   "cell_type": "code",
   "execution_count": 175,
   "metadata": {},
   "outputs": [
    {
     "name": "stdout",
     "output_type": "stream",
     "text": [
      "0\n"
     ]
    }
   ],
   "source": [
    "front = a[0]\n",
    "print(front)"
   ]
  },
  {
   "cell_type": "code",
   "execution_count": 162,
   "metadata": {},
   "outputs": [],
   "source": [
    "def roll(tem):\n",
    "    c = np.roll(tem,1)\n",
    "    return(c)"
   ]
  },
  {
   "cell_type": "code",
   "execution_count": 156,
   "metadata": {},
   "outputs": [
    {
     "name": "stdout",
     "output_type": "stream",
     "text": [
      "[9 0 1 2 3 4 5 6 7 8]\n"
     ]
    }
   ],
   "source": [
    "print(roll(a))"
   ]
  },
  {
   "cell_type": "code",
   "execution_count": null,
   "metadata": {},
   "outputs": [],
   "source": [
    "for i in range(10):\n",
    "    if a[i] == 6 :  \n",
    "        roll(a)\n",
    "        a[0] = 6"
   ]
  },
  {
   "cell_type": "code",
   "execution_count": 12,
   "metadata": {},
   "outputs": [
    {
     "name": "stdout",
     "output_type": "stream",
     "text": [
      "[ 10  20  30  40  50  60  70  80  90 100]\n",
      "[ 40  10  20  30  50  60  70  80  90 100]\n"
     ]
    }
   ],
   "source": [
    "import numpy as np\n",
    "x = np.array([10, 20, 30, 40, 50, 60, 70, 80, 90, 100])\n",
    "print(x)\n",
    "\n",
    "#@njit     it wont work in njit\n",
    "def ad():\n",
    "    for i in range(len(x)):\n",
    "        if x[i] == 40:\n",
    "            new_x = np.delete(x, i)\n",
    "            new_y = np.insert(new_x,0,40)\n",
    "            print(new_y)\n",
    "            \n",
    "ad()"
   ]
  },
  {
   "cell_type": "code",
   "execution_count": 15,
   "metadata": {},
   "outputs": [
    {
     "data": {
      "text/plain": [
       "array([[5, 6, 7, 8]])"
      ]
     },
     "execution_count": 15,
     "metadata": {},
     "output_type": "execute_result"
    }
   ],
   "source": [
    "@njit\n",
    "def delete_workaround(arr, num):\n",
    "    mask = np.zeros(arr.shape[0], dtype=np.int64) == 0\n",
    "    mask[np.where(arr == num)[0]] = False\n",
    "    return arr[mask]\n",
    "\n",
    "a = np.array([[1,2,3,4],[5,6,7,8]])\n",
    "\n",
    "delete_workaround(a, 3)"
   ]
  },
  {
   "cell_type": "code",
   "execution_count": 31,
   "metadata": {
    "scrolled": true
   },
   "outputs": [
    {
     "name": "stdout",
     "output_type": "stream",
     "text": [
      "[[9 1 2]\n",
      " [0 0 0]\n",
      " [0 0 0]\n",
      " [0 0 0]]\n"
     ]
    }
   ],
   "source": [
    "x = np.array([9,1,2])\n",
    "@njit\n",
    "def delete_workaround(arr):\n",
    "    b = np.roll(a,3)\n",
    "    b[0] = x\n",
    "    return b\n",
    "\n",
    "a = np.zeros((4,3),dtype=np.int32)\n",
    "\n",
    "print(delete_workaround(a))"
   ]
  },
  {
   "cell_type": "code",
   "execution_count": 98,
   "metadata": {},
   "outputs": [
    {
     "name": "stdout",
     "output_type": "stream",
     "text": [
      "int64\n",
      "int64\n"
     ]
    },
    {
     "ename": "TypingError",
     "evalue": "Failed in nopython mode pipeline (step: nopython frontend)\nInvalid use of Function(<built-in function setitem>) with argument(s) of type(s): (readonly array(int64, 2d, C), slice<a:b>, array(int64, 2d, C))\n * parameterized\nIn definition 0:\n    All templates rejected with literals.\nIn definition 1:\n    All templates rejected without literals.\nIn definition 2:\n    All templates rejected with literals.\nIn definition 3:\n    All templates rejected without literals.\nIn definition 4:\n    TypeError: Cannot modify value of type readonly array(int64, 2d, C)\n    raised from /home/iss/anaconda3/envs/tensorflow_gpuenv/lib/python3.6/site-packages/numba/typing/arraydecl.py:179\nIn definition 5:\n    TypeError: Cannot modify value of type readonly array(int64, 2d, C)\n    raised from /home/iss/anaconda3/envs/tensorflow_gpuenv/lib/python3.6/site-packages/numba/typing/arraydecl.py:179\nIn definition 6:\n    All templates rejected with literals.\nIn definition 7:\n    All templates rejected without literals.\nThis error is usually caused by passing an argument of a type that is unsupported by the named function.\n[1] During: typing of setitem at <ipython-input-98-e32e802edf8e> (14)\n\nFile \"<ipython-input-98-e32e802edf8e>\", line 14:\ndef delete_workaround(arr,x):\n    <source elided>\n            print(b)\n            c[:i+1] = b\n            ^\n\nThis is not usually a problem with Numba itself but instead often caused by\nthe use of unsupported features or an issue in resolving types.\n\nTo see Python/NumPy features supported by the latest release of Numba visit:\nhttp://numba.pydata.org/numba-doc/dev/reference/pysupported.html\nand\nhttp://numba.pydata.org/numba-doc/dev/reference/numpysupported.html\n\nFor more information about typing errors and how to debug them visit:\nhttp://numba.pydata.org/numba-doc/latest/user/troubleshoot.html#my-code-doesn-t-compile\n\nIf you think your code should work with Numba, please report the error message\nand traceback, along with a minimal reproducer at:\nhttps://github.com/numba/numba/issues/new\n",
     "output_type": "error",
     "traceback": [
      "\u001b[0;31m---------------------------------------------------------------------------\u001b[0m",
      "\u001b[0;31mTypingError\u001b[0m                               Traceback (most recent call last)",
      "\u001b[0;32m<ipython-input-98-e32e802edf8e>\u001b[0m in \u001b[0;36m<module>\u001b[0;34m\u001b[0m\n\u001b[1;32m     26\u001b[0m \u001b[0mprint\u001b[0m\u001b[0;34m(\u001b[0m\u001b[0mx\u001b[0m\u001b[0;34m.\u001b[0m\u001b[0mdtype\u001b[0m\u001b[0;34m)\u001b[0m\u001b[0;34m\u001b[0m\u001b[0m\n\u001b[1;32m     27\u001b[0m \u001b[0;31m#print(a[0][0], a[0][1], len(a))\u001b[0m\u001b[0;34m\u001b[0m\u001b[0;34m\u001b[0m\u001b[0m\n\u001b[0;32m---> 28\u001b[0;31m \u001b[0mprint\u001b[0m\u001b[0;34m(\u001b[0m\u001b[0mdelete_workaround\u001b[0m\u001b[0;34m(\u001b[0m\u001b[0ma\u001b[0m\u001b[0;34m,\u001b[0m\u001b[0mx\u001b[0m\u001b[0;34m)\u001b[0m\u001b[0;34m)\u001b[0m\u001b[0;34m\u001b[0m\u001b[0m\n\u001b[0m",
      "\u001b[0;32m~/anaconda3/envs/tensorflow_gpuenv/lib/python3.6/site-packages/numba/dispatcher.py\u001b[0m in \u001b[0;36m_compile_for_args\u001b[0;34m(self, *args, **kws)\u001b[0m\n\u001b[1;32m    348\u001b[0m                 \u001b[0me\u001b[0m\u001b[0;34m.\u001b[0m\u001b[0mpatch_message\u001b[0m\u001b[0;34m(\u001b[0m\u001b[0mmsg\u001b[0m\u001b[0;34m)\u001b[0m\u001b[0;34m\u001b[0m\u001b[0m\n\u001b[1;32m    349\u001b[0m \u001b[0;34m\u001b[0m\u001b[0m\n\u001b[0;32m--> 350\u001b[0;31m             \u001b[0merror_rewrite\u001b[0m\u001b[0;34m(\u001b[0m\u001b[0me\u001b[0m\u001b[0;34m,\u001b[0m \u001b[0;34m'typing'\u001b[0m\u001b[0;34m)\u001b[0m\u001b[0;34m\u001b[0m\u001b[0m\n\u001b[0m\u001b[1;32m    351\u001b[0m         \u001b[0;32mexcept\u001b[0m \u001b[0merrors\u001b[0m\u001b[0;34m.\u001b[0m\u001b[0mUnsupportedError\u001b[0m \u001b[0;32mas\u001b[0m \u001b[0me\u001b[0m\u001b[0;34m:\u001b[0m\u001b[0;34m\u001b[0m\u001b[0m\n\u001b[1;32m    352\u001b[0m             \u001b[0;31m# Something unsupported is present in the user code, add help info\u001b[0m\u001b[0;34m\u001b[0m\u001b[0;34m\u001b[0m\u001b[0m\n",
      "\u001b[0;32m~/anaconda3/envs/tensorflow_gpuenv/lib/python3.6/site-packages/numba/dispatcher.py\u001b[0m in \u001b[0;36merror_rewrite\u001b[0;34m(e, issue_type)\u001b[0m\n\u001b[1;32m    315\u001b[0m                 \u001b[0;32mraise\u001b[0m \u001b[0me\u001b[0m\u001b[0;34m\u001b[0m\u001b[0m\n\u001b[1;32m    316\u001b[0m             \u001b[0;32melse\u001b[0m\u001b[0;34m:\u001b[0m\u001b[0;34m\u001b[0m\u001b[0m\n\u001b[0;32m--> 317\u001b[0;31m                 \u001b[0mreraise\u001b[0m\u001b[0;34m(\u001b[0m\u001b[0mtype\u001b[0m\u001b[0;34m(\u001b[0m\u001b[0me\u001b[0m\u001b[0;34m)\u001b[0m\u001b[0;34m,\u001b[0m \u001b[0me\u001b[0m\u001b[0;34m,\u001b[0m \u001b[0;32mNone\u001b[0m\u001b[0;34m)\u001b[0m\u001b[0;34m\u001b[0m\u001b[0m\n\u001b[0m\u001b[1;32m    318\u001b[0m \u001b[0;34m\u001b[0m\u001b[0m\n\u001b[1;32m    319\u001b[0m         \u001b[0margtypes\u001b[0m \u001b[0;34m=\u001b[0m \u001b[0;34m[\u001b[0m\u001b[0;34m]\u001b[0m\u001b[0;34m\u001b[0m\u001b[0m\n",
      "\u001b[0;32m~/anaconda3/envs/tensorflow_gpuenv/lib/python3.6/site-packages/numba/six.py\u001b[0m in \u001b[0;36mreraise\u001b[0;34m(tp, value, tb)\u001b[0m\n\u001b[1;32m    656\u001b[0m             \u001b[0mvalue\u001b[0m \u001b[0;34m=\u001b[0m \u001b[0mtp\u001b[0m\u001b[0;34m(\u001b[0m\u001b[0;34m)\u001b[0m\u001b[0;34m\u001b[0m\u001b[0m\n\u001b[1;32m    657\u001b[0m         \u001b[0;32mif\u001b[0m \u001b[0mvalue\u001b[0m\u001b[0;34m.\u001b[0m\u001b[0m__traceback__\u001b[0m \u001b[0;32mis\u001b[0m \u001b[0;32mnot\u001b[0m \u001b[0mtb\u001b[0m\u001b[0;34m:\u001b[0m\u001b[0;34m\u001b[0m\u001b[0m\n\u001b[0;32m--> 658\u001b[0;31m             \u001b[0;32mraise\u001b[0m \u001b[0mvalue\u001b[0m\u001b[0;34m.\u001b[0m\u001b[0mwith_traceback\u001b[0m\u001b[0;34m(\u001b[0m\u001b[0mtb\u001b[0m\u001b[0;34m)\u001b[0m\u001b[0;34m\u001b[0m\u001b[0m\n\u001b[0m\u001b[1;32m    659\u001b[0m         \u001b[0;32mraise\u001b[0m \u001b[0mvalue\u001b[0m\u001b[0;34m\u001b[0m\u001b[0m\n\u001b[1;32m    660\u001b[0m \u001b[0;34m\u001b[0m\u001b[0m\n",
      "\u001b[0;31mTypingError\u001b[0m: Failed in nopython mode pipeline (step: nopython frontend)\nInvalid use of Function(<built-in function setitem>) with argument(s) of type(s): (readonly array(int64, 2d, C), slice<a:b>, array(int64, 2d, C))\n * parameterized\nIn definition 0:\n    All templates rejected with literals.\nIn definition 1:\n    All templates rejected without literals.\nIn definition 2:\n    All templates rejected with literals.\nIn definition 3:\n    All templates rejected without literals.\nIn definition 4:\n    TypeError: Cannot modify value of type readonly array(int64, 2d, C)\n    raised from /home/iss/anaconda3/envs/tensorflow_gpuenv/lib/python3.6/site-packages/numba/typing/arraydecl.py:179\nIn definition 5:\n    TypeError: Cannot modify value of type readonly array(int64, 2d, C)\n    raised from /home/iss/anaconda3/envs/tensorflow_gpuenv/lib/python3.6/site-packages/numba/typing/arraydecl.py:179\nIn definition 6:\n    All templates rejected with literals.\nIn definition 7:\n    All templates rejected without literals.\nThis error is usually caused by passing an argument of a type that is unsupported by the named function.\n[1] During: typing of setitem at <ipython-input-98-e32e802edf8e> (14)\n\nFile \"<ipython-input-98-e32e802edf8e>\", line 14:\ndef delete_workaround(arr,x):\n    <source elided>\n            print(b)\n            c[:i+1] = b\n            ^\n\nThis is not usually a problem with Numba itself but instead often caused by\nthe use of unsupported features or an issue in resolving types.\n\nTo see Python/NumPy features supported by the latest release of Numba visit:\nhttp://numba.pydata.org/numba-doc/dev/reference/pysupported.html\nand\nhttp://numba.pydata.org/numba-doc/dev/reference/numpysupported.html\n\nFor more information about typing errors and how to debug them visit:\nhttp://numba.pydata.org/numba-doc/latest/user/troubleshoot.html#my-code-doesn-t-compile\n\nIf you think your code should work with Numba, please report the error message\nand traceback, along with a minimal reproducer at:\nhttps://github.com/numba/numba/issues/new\n"
     ]
    }
   ],
   "source": [
    "x = np.array([2,3,4], dtype=np.int64)\n",
    "y = np.array([4,3,2], dtype=np.int64)\n",
    "#@vectorize([int64(int64, int64)])\n",
    "@njit\n",
    "def delete_workaround(arr,x):\n",
    "    for i in range(len(a)): \n",
    "        if a[i][0] == x[0] and a[i][1] == x[1] and a[i][2] == x[2]:\n",
    "            print(a[:i+1])\n",
    "            b = np.roll(a[:i+1],3)\n",
    "            print(b)\n",
    "            b[0]=y\n",
    "            print(c[:i+1])\n",
    "            print(b)\n",
    "            c[:i+1] = b\n",
    "            #print(c)\n",
    "            c[i+2:] = a[i+2:]\n",
    "            #print(c)\n",
    "    return c        \n",
    "\n",
    "a = np.zeros((4,3),dtype=np.int64)\n",
    "b = np.zeros((4,3),dtype=np.int64)\n",
    "c = np.zeros((4,3),dtype=np.int64)\n",
    "a[1]=[1,2,3]\n",
    "a[2]=[2,3,4]\n",
    "print(a.dtype)\n",
    "print(x.dtype)\n",
    "#print(a[0][0], a[0][1], len(a))\n",
    "print(delete_workaround(a,x))"
   ]
  },
  {
   "cell_type": "code",
   "execution_count": 96,
   "metadata": {},
   "outputs": [
    {
     "name": "stdout",
     "output_type": "stream",
     "text": [
      "int64\n",
      "int64\n",
      "0 2\n",
      "0 3\n",
      "0 4\n",
      "1 2\n",
      "2 3\n",
      "3 4\n",
      "2 2\n",
      "3 3\n",
      "4 4\n",
      "0 2\n",
      "0 3\n",
      "0 4\n",
      "[[2 3 4]\n",
      " [2 3 4]\n",
      " [2 3 4]\n",
      " [2 3 4]]\n"
     ]
    }
   ],
   "source": [
    "x = np.array([2,3,4], dtype=np.int64)\n",
    "y = np.array([4,3,2], dtype=np.int64)\n",
    "@vectorize([int64(int64, int64)])\n",
    "def delete_workaround(arr,x): \n",
    "    print(arr,x)\n",
    "    for i in range(10):\n",
    "         if a[i-2] == x[i-2] and a == x and a == x:\n",
    "#         print(a[:i+1])\n",
    "#         b = np.roll(a[:i+1],3)\n",
    "#         print(b)\n",
    "#         b[0]=y\n",
    "#         print(c[:i+1])\n",
    "#         print(b)\n",
    "#         c[:i+1] = b\n",
    "#         #print(c)\n",
    "#         c[i+2:] = a[i+2:]\n",
    "#         #print(c)\n",
    "    return x        \n",
    "\n",
    "a = np.zeros((4,3),dtype=np.int64)\n",
    "b = np.zeros((4,3),dtype=np.int64)\n",
    "c = np.zeros((4,3),dtype=np.int64)\n",
    "a[1]=[1,2,3]\n",
    "a[2]=[2,3,4]\n",
    "print(a.dtype)\n",
    "print(x.dtype)\n",
    "#print(a[0][0], a[0][1], len(a))\n",
    "print(delete_workaround(a,x))"
   ]
  },
  {
   "cell_type": "code",
   "execution_count": null,
   "metadata": {},
   "outputs": [],
   "source": []
  },
  {
   "cell_type": "code",
   "execution_count": null,
   "metadata": {},
   "outputs": [],
   "source": []
  },
  {
   "cell_type": "code",
   "execution_count": null,
   "metadata": {},
   "outputs": [],
   "source": []
  },
  {
   "cell_type": "code",
   "execution_count": 148,
   "metadata": {},
   "outputs": [],
   "source": [
    "def cyclicRotate(input): \n",
    "       \n",
    "     # slice list in two parts and append \n",
    "     # last element in front of the sliced list \n",
    "       \n",
    "     # [input[-1]] --> converts last element pf array into list \n",
    "     # to append in front of sliced list \n",
    "  \n",
    "     # input[0:-1] --> list of elements except last element \n",
    "     print ([input[-1:]] + input[0:-1]) "
   ]
  },
  {
   "cell_type": "code",
   "execution_count": 149,
   "metadata": {},
   "outputs": [
    {
     "name": "stdout",
     "output_type": "stream",
     "text": [
      "[[ 9 10 11 12 13 14 15 16 17]]\n"
     ]
    }
   ],
   "source": [
    "cyclicRotate(a)"
   ]
  },
  {
   "cell_type": "code",
   "execution_count": 176,
   "metadata": {},
   "outputs": [],
   "source": [
    "#Rotate the given array by n times toward left\n",
    "def ror(arr,n):\n",
    "    for i in range(0, n):    \n",
    "    #Stores the first element of the array    \n",
    "        first = arr[0];    \n",
    "            \n",
    "        for j in range(0, len(arr)-1):    \n",
    "        #Shift element of array by one    \n",
    "            arr[j] = arr[j+1]\n",
    "            \n",
    "        #First element of array will be added to the end    \n",
    "        arr[len(arr)-1] = first\n",
    "    return(arr)    "
   ]
  },
  {
   "cell_type": "code",
   "execution_count": 177,
   "metadata": {},
   "outputs": [
    {
     "name": "stdout",
     "output_type": "stream",
     "text": [
      "[1 2 3 4 5 6 7 8 9 0]\n"
     ]
    }
   ],
   "source": [
    "print(ror(a,1))"
   ]
  },
  {
   "cell_type": "code",
   "execution_count": 123,
   "metadata": {},
   "outputs": [],
   "source": [
    "def rorm(test_list):\n",
    "    test_list = test_list[-1:] + test_list[:-1]\n",
    "    return(test_list)"
   ]
  },
  {
   "cell_type": "code",
   "execution_count": 124,
   "metadata": {},
   "outputs": [
    {
     "name": "stdout",
     "output_type": "stream",
     "text": [
      "[ 9 10 11 12 13 14 15 16 17]\n"
     ]
    }
   ],
   "source": [
    "print(rorm(a))"
   ]
  },
  {
   "cell_type": "code",
   "execution_count": null,
   "metadata": {},
   "outputs": [],
   "source": []
  },
  {
   "cell_type": "code",
   "execution_count": null,
   "metadata": {},
   "outputs": [],
   "source": []
  },
  {
   "cell_type": "code",
   "execution_count": 80,
   "metadata": {},
   "outputs": [
    {
     "name": "stdout",
     "output_type": "stream",
     "text": [
      "[0 1 2 3 4 5 6 7 8 9]\n",
      "[0 1 2 3 4 5 6 7 8 9]\n"
     ]
    }
   ],
   "source": [
    "for i in range(10):\n",
    "    if a[i] == 6 :\n",
    "        print(a)\n",
    "        roll(a)\n",
    "        print(a)\n",
    "        a[0] = 6"
   ]
  },
  {
   "cell_type": "code",
   "execution_count": 81,
   "metadata": {},
   "outputs": [
    {
     "data": {
      "text/plain": [
       "array([6, 1, 2, 3, 4, 5, 6, 7, 8, 9], dtype=int32)"
      ]
     },
     "execution_count": 81,
     "metadata": {},
     "output_type": "execute_result"
    }
   ],
   "source": [
    "a"
   ]
  },
  {
   "cell_type": "code",
   "execution_count": 102,
   "metadata": {},
   "outputs": [
    {
     "name": "stdout",
     "output_type": "stream",
     "text": [
      "The original list is : [1, 4, 5, 6, 7, 8, 9, 12]\n",
      "The list after shift is : [12, 1, 4, 5, 6, 7, 8, 9]\n"
     ]
    }
   ],
   "source": [
    "test_list = [1, 4, 5, 6, 7, 8, 9, 12] \n",
    "  \n",
    "# printing the original list \n",
    "print (\"The original list is : \" + str(test_list)) \n",
    "  \n",
    "# using list slicing and \"+\" operator \n",
    "# shift last element to first \n",
    "test_list = test_list[-1:] + test_list[:-1]  \n",
    "  \n",
    "# printing result \n",
    "print (\"The list after shift is : \" + str(test_list)) "
   ]
  },
  {
   "cell_type": "code",
   "execution_count": null,
   "metadata": {},
   "outputs": [],
   "source": []
  },
  {
   "cell_type": "code",
   "execution_count": 111,
   "metadata": {},
   "outputs": [
    {
     "name": "stdout",
     "output_type": "stream",
     "text": [
      "[9, 0, 1, 2, 3, 4, 5, 6, 7, 8]\n"
     ]
    }
   ],
   "source": [
    "def rightRotate(lists, num): \n",
    "    output_list = [] \n",
    "      \n",
    "    # Will add values from n to the new list \n",
    "    for item in range(len(lists) - num, len(lists)): \n",
    "        output_list.append(lists[item]) \n",
    "      \n",
    "    # Will add the values before \n",
    "    # n to the end of new list     \n",
    "    for item in range(0, len(lists) - num):  \n",
    "        output_list.append(lists[item]) \n",
    "          \n",
    "    return output_list \n",
    "  \n",
    "# Driver Code \n",
    "rotate_num = 1\n",
    "list_1 = [1, 2, 3, 4, 5, 6] \n",
    "  \n",
    "print(rightRotate(a, rotate_num)) "
   ]
  },
  {
   "cell_type": "code",
   "execution_count": 112,
   "metadata": {},
   "outputs": [
    {
     "data": {
      "text/plain": [
       "array([0, 1, 2, 3, 4, 5, 6, 7, 8, 9], dtype=int32)"
      ]
     },
     "execution_count": 112,
     "metadata": {},
     "output_type": "execute_result"
    }
   ],
   "source": [
    "a"
   ]
  },
  {
   "cell_type": "code",
   "execution_count": null,
   "metadata": {},
   "outputs": [],
   "source": []
  }
 ],
 "metadata": {
  "kernelspec": {
   "display_name": "Python 3",
   "language": "python",
   "name": "python3"
  },
  "language_info": {
   "codemirror_mode": {
    "name": "ipython",
    "version": 3
   },
   "file_extension": ".py",
   "mimetype": "text/x-python",
   "name": "python",
   "nbconvert_exporter": "python",
   "pygments_lexer": "ipython3",
   "version": "3.6.6"
  }
 },
 "nbformat": 4,
 "nbformat_minor": 2
}
