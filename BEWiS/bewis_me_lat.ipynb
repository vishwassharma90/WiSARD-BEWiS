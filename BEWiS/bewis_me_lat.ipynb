{
 "cells": [
  {
   "cell_type": "code",
   "execution_count": 1,
   "metadata": {},
   "outputs": [],
   "source": [
    "#Numba#"
   ]
  },
  {
   "cell_type": "code",
   "execution_count": 8,
   "metadata": {},
   "outputs": [
    {
     "ename": "ModuleNotFoundError",
     "evalue": "No module named 'imutils'",
     "output_type": "error",
     "traceback": [
      "\u001b[0;31m---------------------------------------------------------------------------\u001b[0m",
      "\u001b[0;31mModuleNotFoundError\u001b[0m                       Traceback (most recent call last)",
      "\u001b[0;32m<ipython-input-8-06ddcf00239d>\u001b[0m in \u001b[0;36m<module>\u001b[0;34m\u001b[0m\n\u001b[1;32m      1\u001b[0m \u001b[0;31m# import the necessary packages\u001b[0m\u001b[0;34m\u001b[0m\u001b[0;34m\u001b[0m\u001b[0m\n\u001b[0;32m----> 2\u001b[0;31m \u001b[0;32mfrom\u001b[0m \u001b[0mimutils\u001b[0m\u001b[0;34m.\u001b[0m\u001b[0mvideo\u001b[0m \u001b[0;32mimport\u001b[0m \u001b[0mFPS\u001b[0m\u001b[0;34m\u001b[0m\u001b[0m\n\u001b[0m\u001b[1;32m      3\u001b[0m \u001b[0;32mimport\u001b[0m \u001b[0mnumpy\u001b[0m \u001b[0;32mas\u001b[0m \u001b[0mnp\u001b[0m\u001b[0;34m\u001b[0m\u001b[0m\n\u001b[1;32m      4\u001b[0m \u001b[0;32mimport\u001b[0m \u001b[0margparse\u001b[0m\u001b[0;34m\u001b[0m\u001b[0m\n\u001b[1;32m      5\u001b[0m \u001b[0;32mimport\u001b[0m \u001b[0mimutils\u001b[0m\u001b[0;34m\u001b[0m\u001b[0m\n",
      "\u001b[0;31mModuleNotFoundError\u001b[0m: No module named 'imutils'"
     ]
    }
   ],
   "source": [
    "# import the necessary packages\n",
    "from imutils.video import FPS\n",
    "import numpy as np\n",
    "import argparse\n",
    "import imutils\n",
    "import cv2"
   ]
  },
  {
   "cell_type": "code",
   "execution_count": 2,
   "metadata": {},
   "outputs": [
    {
     "name": "stdout",
     "output_type": "stream",
     "text": [
      "(720, 1280, 3)\n",
      "(720, 1280, 3)\n",
      "(720, 1280, 3)\n",
      "(720, 1280, 3)\n",
      "(720, 1280, 3)\n",
      "(720, 1280, 3)\n",
      "(720, 1280, 3)\n",
      "(720, 1280, 3)\n",
      "(720, 1280, 3)\n",
      "(720, 1280, 3)\n",
      "(720, 1280, 3)\n",
      "(720, 1280, 3)\n",
      "(720, 1280, 3)\n",
      "(720, 1280, 3)\n",
      "(720, 1280, 3)\n",
      "(720, 1280, 3)\n",
      "(720, 1280, 3)\n",
      "(720, 1280, 3)\n",
      "(720, 1280, 3)\n",
      "(720, 1280, 3)\n",
      "(720, 1280, 3)\n",
      "(720, 1280, 3)\n",
      "(720, 1280, 3)\n",
      "(720, 1280, 3)\n",
      "(720, 1280, 3)\n",
      "(720, 1280, 3)\n",
      "(720, 1280, 3)\n",
      "(720, 1280, 3)\n",
      "(720, 1280, 3)\n",
      "(720, 1280, 3)\n",
      "(720, 1280, 3)\n",
      "(720, 1280, 3)\n",
      "(720, 1280, 3)\n",
      "(720, 1280, 3)\n",
      "(720, 1280, 3)\n",
      "(720, 1280, 3)\n",
      "(720, 1280, 3)\n",
      "(720, 1280, 3)\n",
      "(720, 1280, 3)\n",
      "(720, 1280, 3)\n",
      "(720, 1280, 3)\n",
      "(720, 1280, 3)\n",
      "(720, 1280, 3)\n"
     ]
    },
    {
     "data": {
      "text/plain": [
       "'\\n    print(frame.shape)\\n    for p in itertools.product(range(frame.shape[0]),range(frame.shape[1])):\\n        print (p)\\n        #r,g,b = frame[p[0],p[1],:]\\n        #a = np.zeros((256,3))\\n        #a[0:r,0] = 1  \\n        #a[0:g,1] = 1\\n        #a[0:b,2] = 1\\n'"
      ]
     },
     "execution_count": 2,
     "metadata": {},
     "output_type": "execute_result"
    }
   ],
   "source": [
    "from numba import njit,jit\n",
    "import numpy as np\n",
    "import cv2\n",
    "import itertools\n",
    "\n",
    "cap = cv2.VideoCapture('E_IP1231_Day_1.avi')\n",
    "\n",
    "quesize = 10\n",
    "stabilityqueue = np.zeros((480,640,10,3),dtype=np.int32)\n",
    "w = np.zeros((480,640),dtype=np.int32)\n",
    "ID = np.zeros((480,640),dtype=np.int32)\n",
    "queueLimits = np.zeros((480,640,2),dtype=np.int32)\n",
    "\n",
    "@njit\n",
    "def IsFoundinStabilityQueue(pixel,i,j):\n",
    "    for queueIndex in range(queueLimits[i,j,0],queueLimits[i,j,1]):\n",
    "        queuevalue = np.reshape(stabilityqueue[i,j,queueIndex,:],(3,1))\n",
    "        if queuevalue[0][0]==pixel[0][0] and queuevalue[1][0]==pixel[1][0] and queuevalue[2][0]==pixel[2][0]:\n",
    "            return True\n",
    "    return False\n",
    "\n",
    "    \n",
    "@njit\n",
    "def bewis(frame,w,ID):\n",
    "    w1 = np.zeros((480,640),dtype=np.int32)\n",
    "    ID1 = np.zeros((480,640),dtype=np.int32)\n",
    "    w1 = w\n",
    "    ID1 = ID\n",
    "    for i in range(frame.shape[0]):\n",
    "        for j in range(frame.shape[1]):\n",
    "            r,g,b = frame[i,j,:]\n",
    "            #create binary endoder for each pixel\n",
    "            a = np.zeros((256,3))\n",
    "            a[0:r,0] = 1\n",
    "            a[0:g,1] = 1\n",
    "            a[0:b,2] = 1\n",
    "            #check if pixel color is in front of stability queue\n",
    "            front = np.reshape(stabilityqueue[i,j,queueLimits[i,j,0],:],(3,1)) \n",
    "            pixel = np.reshape(frame[i,j,:],(3,1))\n",
    "            if front[0][0]==pixel[0][0] and front[1][0]==pixel[1][0] and front[2][0]==pixel[2][0]:\n",
    "                w1[i][j] += ID1[i][j]\n",
    "                ID1[i,j] += 1\n",
    "                \n",
    "            elif IsFoundinStabilityQueue(pixel,i,j):\n",
    "                #move it to front of queue\n",
    "                ID1[i,j] = 1\n",
    "                x=0\n",
    "            else:\n",
    "                x=0  \n",
    "                #insert it in front of the queue(with w = 0 abnd id = 1)\n",
    "                #remove last element of queue\n",
    "                \n",
    "            #if pixel color in front of the queue has w > k:\n",
    "                #use binary pattern to train wisardrp by reward and punishment\n",
    "                \n",
    "    return w1, ID1            \n",
    "                \n",
    "                        \n",
    "while(True):\n",
    "    ret, frame = cap.read()\n",
    "    # Display the resulting frame\n",
    "    print(frame.shape)\n",
    "    cv2.imshow('frame',frame)\n",
    "    #print(frame.shape)\n",
    "    #w1,ID1 = bewis(frame,w,ID)\n",
    "    #w = w1\n",
    "    #ID=ID1\n",
    "    if cv2.waitKey(1) & 0xFF == ord('q'):\n",
    "        break\n",
    "\n",
    "# When everything done, release the capture\n",
    "cap.release()\n",
    "cv2.destroyAllWindows()\n",
    "\n",
    "\n",
    "'''\n",
    "    print(frame.shape)\n",
    "    for p in itertools.product(range(frame.shape[0]),range(frame.shape[1])):\n",
    "        print (p)\n",
    "        #r,g,b = frame[p[0],p[1],:]\n",
    "        #a = np.zeros((256,3))\n",
    "        #a[0:r,0] = 1  \n",
    "        #a[0:g,1] = 1\n",
    "        #a[0:b,2] = 1\n",
    "'''"
   ]
  },
  {
   "cell_type": "code",
   "execution_count": null,
   "metadata": {},
   "outputs": [],
   "source": []
  },
  {
   "cell_type": "code",
   "execution_count": null,
   "metadata": {},
   "outputs": [],
   "source": []
  },
  {
   "cell_type": "code",
   "execution_count": null,
   "metadata": {},
   "outputs": [],
   "source": []
  },
  {
   "cell_type": "code",
   "execution_count": null,
   "metadata": {},
   "outputs": [],
   "source": []
  },
  {
   "cell_type": "code",
   "execution_count": 1,
   "metadata": {},
   "outputs": [],
   "source": [
    "import numpy as np\n",
    "import cv2\n",
    "import itertools\n",
    "import time\n",
    "from numba import njit,jit,prange,vectorize,int32,float64,int64\n",
    "import random\n",
    "import tensorflow as tf\n",
    "quesize = 10\n",
    "k = 10"
   ]
  },
  {
   "cell_type": "code",
   "execution_count": 2,
   "metadata": {},
   "outputs": [],
   "source": [
    "input_size = 256*3\n",
    "\n",
    "@njit\n",
    "def preprocessing(a):\n",
    "        \n",
    "    #py_train = ty_train.flatten()\n",
    "    #py_test = ty_test.flatten()\n",
    "    \n",
    "    #px_test = tx_test.reshape(10000,input_size)\n",
    "    px_train = a.reshape(input_size)\n",
    "    \n",
    "    px_train = np.asarray(px_train).astype(np.int32)\n",
    "    #py_train = np.asarray(py_train).astype(np.int32)\n",
    "    #px_test = np.asarray(px_test).astype(np.int32)\n",
    "    #py_test = np.asarray(py_test).astype(np.int32)\n",
    "\n",
    "    return px_train      # , py_train, px_test, py_test   "
   ]
  },
  {
   "cell_type": "code",
   "execution_count": 3,
   "metadata": {},
   "outputs": [],
   "source": [
    "class WiSARDrp:                                                     \n",
    "    \n",
    "    def __init__(self,input_size,no_of_rand_pix_selec,nodes,ram_address_count,dis_number):\n",
    "        self.input_size = input_size\n",
    "        self.no_of_rand_pix_selec = no_of_rand_pix_selec\n",
    "        self.nodes = nodes\n",
    "        self.ram_address_count = ram_address_count\n",
    "        self.dis_number = dis_number \n",
    "\n",
    "\n",
    "    def discriminator(self):\n",
    "        discriminator = []\n",
    "        accumulated_pos = []\n",
    "        my_list = list(range(0,self.input_size))\n",
    "        for i in range(self.dis_number):  #10\n",
    "            ram = []\n",
    "            random.shuffle(my_list)\n",
    "            for j in range((int)((self.nodes))): #98    \n",
    "                total_pos = []            \n",
    "                positions = []\n",
    "                positions = my_list[j*no_of_rand_pix_selec:j*no_of_rand_pix_selec+no_of_rand_pix_selec]\n",
    "                accumulated_pos.append(positions)\n",
    "                total_pos = np.vstack(positions)\n",
    "                #print(total_pos)\n",
    "                table = []\n",
    "                dictionary = {}\n",
    "                \n",
    "                max = len(\"{0:b}\".format(2**len(total_pos))) - 1\n",
    "                for i in range(2**len(total_pos)):\n",
    "                    x = (('0' * max) + \"{0:b}\".format(i))\n",
    "                    x = x[len(x)-max:]\n",
    "                    dictionary[x] = 0\n",
    "                table.append(dictionary)\n",
    "                #print(table)\n",
    "                ram.append(table)\n",
    "        \n",
    "            di = []\n",
    "            for j in range(len(ram)):\n",
    "                for i in range(len(ram[j])):\n",
    "                    for key, value in ram[j][i].items():\n",
    "                        temp = [key,value]\n",
    "                        di.append(temp)\n",
    "                        \n",
    "            discriminator.append(di)\n",
    "    \n",
    "        discriminator = np.asarray(discriminator).astype(np.int32)\n",
    "        accumulated_pos = np.asarray(accumulated_pos).astype(np.int32)\n",
    "        return discriminator, accumulated_pos\n",
    "    \n",
    "                        \n",
    "    \n",
    "    @staticmethod\n",
    "    @njit(parallel = True)\n",
    "    def train_with_bleeching(d,pos,x_train, y_train):\n",
    "        \n",
    "        images = x_train\n",
    "        lable = y_train    \n",
    "        \n",
    "        #for i in range(len(images)):\n",
    "            #image = images[i]\n",
    "            #num = lable[i]\n",
    "        num = lable\n",
    "        all_ram_of_selected_discriminator = d[num]\n",
    "        t_ratina = pos[(int)(nodes*num):(int)(nodes*num+nodes)]\n",
    "            \n",
    "        for i in range((int)(nodes)):\n",
    "            part = all_ram_of_selected_discriminator[(ram_address_count*i):(ram_address_count*i+ram_address_count)]\n",
    "            ratina_for_one_ram = t_ratina[i]\n",
    "                \n",
    "            #threshold = 0               \n",
    "            n = []                                                                \n",
    "            for ix in range(len(ratina_for_one_ram)):\n",
    "                pix = ratina_for_one_ram[ix]\n",
    "                if image[(pix-1)]>=1:\n",
    "                    n.append(1)\n",
    "                    #threshold = threshold + 1     \n",
    "                else:\n",
    "                     n.append(0)\n",
    "                \n",
    "            num = 0\n",
    "            for i in range(no_of_rand_pix_selec):\n",
    "                num = (n[i])*(10**((no_of_rand_pix_selec-1)-i)) + num\n",
    "            \n",
    "            address_of_that_ram = (int)(num)\n",
    "            for key in range(ram_address_count):\n",
    "                index = part[key]\n",
    "                #if threshold >= 1:          \n",
    "                if index[0] == address_of_that_ram:\n",
    "                    index[1] += 1\n",
    "                else:\n",
    "                    if index[1] != 0:\n",
    "                        index[1] -= 1\n",
    "\n",
    "\n",
    "\n",
    "    #@vectorize(['int32(int32,int32,int32,int32)'], target = 'cuda')\n",
    "    @staticmethod\n",
    "    @njit(parallel = True)\n",
    "    def test_with_bleaching(d,pos,x_test,y_test):\n",
    "        right = 0\n",
    "        wrong = 0\n",
    "        images = x_test\n",
    "        lable = y_test\n",
    "        ct = 0.02\n",
    "        b=1\n",
    "        \n",
    "        for i in range(len(images)):\n",
    "            image = images[i]\n",
    "            actual_lable = lable[i]\n",
    "            \n",
    "            total_sum=[]\n",
    "            \n",
    "            for ix in range(dis_number):\n",
    "                \n",
    "                t_ratina = pos[int((nodes*ix)):(int)((nodes*ix+nodes))]\n",
    "                \n",
    "                sum_of_ram_output = 0\n",
    "                dis = d[ix]\n",
    "                \n",
    "                for i in range(int(nodes)):\n",
    "                    part = dis[(ram_address_count*i):(ram_address_count*i+ram_address_count)]\n",
    "                    ratina_for_one_ram = t_ratina[i]\n",
    "                    \n",
    "                    n = []                                                                \n",
    "                    for pix in ratina_for_one_ram:\n",
    "                        if image[(pix-1)]>=1:\n",
    "                            n.append(1)\n",
    "                        else:\n",
    "                            n.append(0)\n",
    "                    \n",
    "                    num = 0\n",
    "                    for i in range(no_of_rand_pix_selec):\n",
    "                        num = (n[i])*(10**((no_of_rand_pix_selec-1)-i)) + num\n",
    "                    \n",
    "                    address_of_that_ram = (int)(num)\n",
    "                \n",
    "                    for key in range(len(part)):\n",
    "                        prt = part[key]\n",
    "                        if prt[0] == address_of_that_ram and prt[1]>=b:           #have to change this\n",
    "                            sum_of_ram_output += 1\n",
    "                \n",
    "                total_sum.append(sum_of_ram_output)        \n",
    "        \n",
    "            max_sum = 0\n",
    "            sec_max = 0\n",
    "            idx = 0\n",
    "            \n",
    "            for i in range(len(total_sum)):\n",
    "                if max_sum < total_sum[i]:\n",
    "                    max_sum = total_sum[i]\n",
    "                    idx = i\n",
    "                    \n",
    "            for j in range(len(total_sum)):\n",
    "                if sec_max < total_sum[j] and j!=idx:\n",
    "                    sec_max = total_sum[j]\n",
    "                    \n",
    "            index_of_dis = idx\n",
    "            if index_of_dis == actual_lable:\n",
    "                right += 1\n",
    "            else:\n",
    "                wrong += 1\n",
    "            \n",
    "            if max_sum == sec_max:\n",
    "                confidence = 0\n",
    "            else:\n",
    "                confidence = 1 - float(sec_max)/float(max_sum)\n",
    "                if confidence < ct:\n",
    "                    b += 1\n",
    "        \n",
    "        return right,wrong"
   ]
  },
  {
   "cell_type": "code",
   "execution_count": 4,
   "metadata": {},
   "outputs": [],
   "source": [
    "input_size = 256*3\n",
    "no_of_rand_pix_selec = 2**(2)     ## ** (must) no_of_rand_pix_selec = 2^(n) where n is 0,1,2...\n",
    "nodes = int(input_size/no_of_rand_pix_selec)    #98\n",
    "ram_address_count = 2**(no_of_rand_pix_selec)   #256\n",
    "dis_number = 240*256"
   ]
  },
  {
   "cell_type": "code",
   "execution_count": 5,
   "metadata": {},
   "outputs": [
    {
     "name": "stdout",
     "output_type": "stream",
     "text": [
      "(61440, 3072, 2)\n"
     ]
    }
   ],
   "source": [
    "w = WiSARDrp(input_size,no_of_rand_pix_selec,nodes,ram_address_count,dis_number)\n",
    "d, acc_pos = w.discriminator()\n",
    "print(d.shape)"
   ]
  },
  {
   "cell_type": "code",
   "execution_count": 24,
   "metadata": {},
   "outputs": [
    {
     "data": {
      "text/plain": [
       "'\\n    print(frame.shape)\\n    for p in itertools.product(range(frame.shape[0]),range(frame.shape[1])):\\n        print (p)\\n        #r,g,b = frame[p[0],p[1],:]\\n        #a = np.zeros((256,3))\\n'"
      ]
     },
     "execution_count": 24,
     "metadata": {},
     "output_type": "execute_result"
    }
   ],
   "source": [
    "@njit(parallel = True)\n",
    "def train_with_bleeching(d,pos,x_train, y_train):\n",
    "    #indx = np.zeros((2,),dtype=np.int32)    \n",
    "    image = x_train\n",
    "    lable = y_train    \n",
    "        \n",
    "    #for i in range(len(images)):\n",
    "        #image = images[i]\n",
    "        #num = lable[i]\n",
    "    num = lable\n",
    "    all_ram_of_selected_discriminator = d[num]\n",
    "    t_ratina = pos[(int)(nodes*num):(int)(nodes*num+nodes)]\n",
    "            \n",
    "    for i in range((int)(nodes)):\n",
    "        part = all_ram_of_selected_discriminator[(ram_address_count*i):(ram_address_count*i+ram_address_count)]\n",
    "        ratina_for_one_ram = t_ratina[i]\n",
    "                \n",
    "            #threshold = 0               \n",
    "        n = []                                                                \n",
    "        for ix in range(len(ratina_for_one_ram)):\n",
    "            pix = ratina_for_one_ram[ix]\n",
    "            if image[(pix-1)]>=1:\n",
    "                n.append(1)\n",
    "                    #threshold = threshold + 1     \n",
    "            else:\n",
    "                 n.append(0)\n",
    "                \n",
    "        num = 0\n",
    "        for i in range(no_of_rand_pix_selec):\n",
    "            num = (n[i])*(10**((no_of_rand_pix_selec-1)-i)) + num\n",
    "            \n",
    "        address_of_that_ram = (int)(num)\n",
    "        for key in range(ram_address_count):\n",
    "            indx = part[key]\n",
    "            #indx = index\n",
    "                #if threshold >= 1:          \n",
    "            #if index[0] == address_of_that_ram:\n",
    "             #   index[1] += 1\n",
    "            #else:\n",
    "             #   if index[1] != 0:\n",
    "              #      index[1] -= 1\n",
    "            \n",
    "            if indx[0] == address_of_that_ram:\n",
    "                #indx[1] += 1\n",
    "                x = 0\n",
    "            else:\n",
    "                if indx[1] != 0:\n",
    "                    #indx[1] -= 1\n",
    "                    x = 0\n",
    "                    \n",
    "\n",
    "#@staticmethod\n",
    "@njit(parallel = True)\n",
    "def test_with_bleaching(d,pos,x_test,y_test):\n",
    "    right = 0\n",
    "    wrong = 0\n",
    "    image = x_test\n",
    "    lable = y_test\n",
    "    ct = 0.02\n",
    "    b=1\n",
    "        \n",
    "    #for i in range(len(images)):\n",
    "        #image = images[i]\n",
    "    actual_lable = lable\n",
    "            \n",
    "    total_sum=[]\n",
    "            \n",
    "    for ix in range(dis_number):\n",
    "                \n",
    "        t_ratina = pos[int((nodes*ix)):(int)((nodes*ix+nodes))]\n",
    "                \n",
    "        sum_of_ram_output = 0\n",
    "        dis = d[ix]\n",
    "                \n",
    "        for i in range(int(nodes)):\n",
    "            part = dis[(ram_address_count*i):(ram_address_count*i+ram_address_count)]\n",
    "            ratina_for_one_ram = t_ratina[i]\n",
    "                    \n",
    "            n = []                                                                \n",
    "            for pix in ratina_for_one_ram:\n",
    "                if image[(pix-1)]>=1:\n",
    "                    n.append(1)\n",
    "                else:\n",
    "                    n.append(0)\n",
    "                \n",
    "            num = 0\n",
    "            for i in range(no_of_rand_pix_selec):\n",
    "                num = (n[i])*(10**((no_of_rand_pix_selec-1)-i)) + num\n",
    "                    \n",
    "            address_of_that_ram = (int)(num)\n",
    "                \n",
    "            for key in range(len(part)):\n",
    "                prt = part[key]\n",
    "                if prt[0] == address_of_that_ram and prt[1]>=b:           #have to change this\n",
    "                    sum_of_ram_output += 1\n",
    "                \n",
    "        total_sum.append(sum_of_ram_output)        \n",
    "        \n",
    "    max_sum = 0\n",
    "    sec_max = 0\n",
    "    idx = 0\n",
    "            \n",
    "    for i in range(len(total_sum)):\n",
    "        if max_sum < total_sum[i]:\n",
    "            max_sum = total_sum[i]\n",
    "            idx = i\n",
    "                    \n",
    "    for j in range(len(total_sum)):\n",
    "        if sec_max < total_sum[j] and j!=idx:\n",
    "            sec_max = total_sum[j]\n",
    "                    \n",
    "    index_of_dis = idx\n",
    "    if index_of_dis == actual_lable:\n",
    "        right += 1\n",
    "    else:\n",
    "        wrong += 1\n",
    "            \n",
    "    if max_sum == sec_max:\n",
    "        confidence = 0\n",
    "    else:\n",
    "        confidence = 1 - float(sec_max)/float(max_sum)\n",
    "        if confidence < ct:\n",
    "            b += 1\n",
    "        \n",
    "    return right,wrong                \n",
    "                \n",
    "                \n",
    "                \n",
    "@njit\n",
    "def IsFoundinStabilityQueue(stabilityqueue1,i,j,pixel):\n",
    "    stabilityqueue2 = stabilityqueue1\n",
    "    c = np.zeros((quesize,3),dtype=np.int32) \n",
    "    b = np.zeros((4,3),dtype=np.int32)\n",
    "    for queueIndex in range(quesize):\n",
    "        queuevalue = np.reshape(stabilityqueue2[i,j,queueIndex,:],(3,1))\n",
    "        if queuevalue[0][0] == pixel[0][0] and  queuevalue[1][0] == pixel[1][0] and  queuevalue[2][0] == pixel[2][0] :\n",
    "            b = np.roll(stabilityqueue2[i,j,:queueIndex+1,:],3) \n",
    "            c[:queueIndex+1] = b\n",
    "            c[queueIndex+2:] = stabilityqueue2[i,j,queueIndex+2:,:]\n",
    "            stabilityqueue2[i,j,:,:] = c\n",
    "            return stabilityqueue2,True\n",
    "    #print(stabilityqueue2.shape)\n",
    "    return stabilityqueue2,False\n",
    "    \n",
    "@njit\n",
    "def bewis(frame,w,ID,stabilityqueue,out):\n",
    "    w1 = w\n",
    "    ID1 = ID\n",
    "    stabilityqueue1 = stabilityqueue\n",
    "    out1 = out\n",
    "    \n",
    "    for i in range(frame.shape[0]):\n",
    "        for j in range(frame.shape[1]):\n",
    "            r,g,b = frame[i,j,:]\n",
    "            #create binary endoder for each pixel\n",
    "            a = np.zeros((256,3))\n",
    "            a[0:r,0] = 1  \n",
    "            a[0:g,1] = 1\n",
    "            a[0:b,2] = 1\n",
    "            #check if pixel color is in front of stability queue\n",
    "            front = np.reshape(stabilityqueue1[i,j,0,:],(3,1)) \n",
    "            pixel = np.reshape(frame[i,j,:],(3,1))\n",
    "            pixel_no = i+j\n",
    "            if front[0][0] == pixel[0][0] and  front[1][0] == pixel[1][0] and  front[2][0] == pixel[2][0] :\n",
    "                w1[i,j] = ID1[i,j]\n",
    "                ID1[i,j] += 1\n",
    "                continue\n",
    "                \n",
    "            stabilityqueue1,found = IsFoundinStabilityQueue(stabilityqueue1,i,j,pixel)\n",
    "            if found:\n",
    "                ID1[i,j] = 1\n",
    "            else:\n",
    "                stabilityqueue1[i,j,:,:] = np.roll(stabilityqueue1[i,j,:,:],1)\n",
    "                #print(stabilityqueue1[i,j,0,:].shape)\n",
    "                stabilityqueue1[i,j,0,:]= np.reshape(pixel,(3,))\n",
    "                w1[i,j] = 0\n",
    "                ID1[i,j] = 1\n",
    "            if w1[i,j] > k:\n",
    "                #print(w1[i,j])\n",
    "                pixel_train = preprocessing(a)\n",
    "                train_with_bleeching(d,acc_pos,pixel_train,pixel_no)\n",
    "                #print(pixel.shape)\n",
    "                #print(pixel.dtype)\n",
    "                #print(i,j)\n",
    "                #print(a)\n",
    "                #print(a.shape)\n",
    "    \n",
    "            #reconstruct colors from neurons and write it on BG image\n",
    "            #pixel_test = preprocessing(a)\n",
    "            #print(1)\n",
    "            #right,wrong = test_with_bleaching(d,acc_pos,pixel_test,pixel_no)\n",
    "            #print(2)\n",
    "            #if right:\n",
    "                #print(3)\n",
    "                #out1[i:j] = 0\n",
    "        \n",
    "    return w1,ID1,stabilityqueue1#,out1\n",
    "\n",
    "\n",
    "\n",
    "def getframe():\n",
    "    stabilityqueue = np.zeros((240,256,quesize,3),dtype=np.int32)     #480,640 for bird video, 720,1280 for E_IP1231_Day_1\n",
    "    w = np.zeros((240,256),dtype=np.int32)\n",
    "    ID = np.zeros((240,256),dtype=np.int32)\n",
    "    cap = cv2.VideoCapture('bird.avi')\n",
    "    #height, width, depth = cap.shape\n",
    "    #print(height, width, depth)\n",
    "    #print(cap.shape)\n",
    "    #cap = cv2.resize(oriimg,(360,480))\n",
    "    out = np.ones((240,256),dtype=np.float64)\n",
    "    n = 0\n",
    "    while(True):\n",
    "        ret, frame = cap.read()\n",
    "        #Display the resulting frame\n",
    "        #print(frame.shape)\n",
    "        #if n <= 3:\n",
    "            #ret, frame1 = cap.read()\n",
    "            #cv2.imshow('frame1',frame1)\n",
    "            #frame = frame\n",
    "            #print(frame1.shape)\n",
    "            #n += 1\n",
    "        cv2.imshow('frame',frame)\n",
    "        #print(frame.shape)\n",
    "        w1, ID1, stabilityqueue1 = bewis(frame,w,ID,stabilityqueue,out)\n",
    "        w = w1\n",
    "        ID = ID1\n",
    "        stabilityqueue = stabilityqueue1\n",
    "        #out = out1\n",
    "        #print(out)\n",
    "        cv2.imshow('out',out)\n",
    "        if cv2.waitKey(1) & 0xFF == ord('q'):\n",
    "            break\n",
    "    # When everything done, release the capture\n",
    "    cap.release()\n",
    "    cv2.destroyAllWindows()\n",
    "\n",
    "\n",
    "getframe()\n",
    "'''\n",
    "    print(frame.shape)\n",
    "    for p in itertools.product(range(frame.shape[0]),range(frame.shape[1])):\n",
    "        print (p)\n",
    "        #r,g,b = frame[p[0],p[1],:]\n",
    "        #a = np.zeros((256,3))\n",
    "'''        "
   ]
  },
  {
   "cell_type": "code",
   "execution_count": null,
   "metadata": {},
   "outputs": [],
   "source": []
  },
  {
   "cell_type": "code",
   "execution_count": null,
   "metadata": {},
   "outputs": [],
   "source": []
  },
  {
   "cell_type": "code",
   "execution_count": null,
   "metadata": {},
   "outputs": [],
   "source": []
  },
  {
   "cell_type": "code",
   "execution_count": null,
   "metadata": {},
   "outputs": [],
   "source": []
  },
  {
   "cell_type": "code",
   "execution_count": null,
   "metadata": {},
   "outputs": [],
   "source": []
  },
  {
   "cell_type": "code",
   "execution_count": 25,
   "metadata": {},
   "outputs": [],
   "source": [
    "import time\n",
    "from numba import njit,prange,vectorize,int32,float64,int64\n",
    "import numpy as np\n",
    "import random\n",
    "import tensorflow as tf"
   ]
  },
  {
   "cell_type": "code",
   "execution_count": 26,
   "metadata": {},
   "outputs": [],
   "source": [
    "def preprocessing(tx_train, ty_train, tx_test, ty_test):\n",
    "        \n",
    "    py_train = ty_train.flatten()\n",
    "    py_test = ty_test.flatten()\n",
    "    \n",
    "    px_test = tx_test.reshape(10000,input_size)\n",
    "    px_train = tx_train.reshape(60000,input_size)\n",
    "    \n",
    "    px_train = np.asarray(px_train).astype(np.int32)\n",
    "    py_train = np.asarray(py_train).astype(np.int32)\n",
    "    px_test = np.asarray(px_test).astype(np.int32)\n",
    "    py_test = np.asarray(py_test).astype(np.int32)\n",
    "\n",
    "    return px_train, py_train, px_test, py_test   \n"
   ]
  },
  {
   "cell_type": "code",
   "execution_count": 27,
   "metadata": {},
   "outputs": [],
   "source": [
    "class WiSARDrp:                                                     \n",
    "    \n",
    "    def __init__(self,input_size,no_of_rand_pix_selec,nodes,ram_address_count,dis_number):\n",
    "        self.input_size = input_size\n",
    "        self.no_of_rand_pix_selec = no_of_rand_pix_selec\n",
    "        self.nodes = nodes\n",
    "        self.ram_address_count = ram_address_count\n",
    "        self.dis_number = dis_number \n",
    "\n",
    "\n",
    "    def discriminator(self):\n",
    "        discriminator = []\n",
    "        accumulated_pos = []\n",
    "        my_list = list(range(0,self.input_size))\n",
    "        for i in range(self.dis_number):  #10\n",
    "            ram = []\n",
    "            random.shuffle(my_list)\n",
    "            for j in range((int)((self.nodes))): #98    \n",
    "                total_pos = []            \n",
    "                positions = []\n",
    "                positions = my_list[j*no_of_rand_pix_selec:j*no_of_rand_pix_selec+no_of_rand_pix_selec]\n",
    "                accumulated_pos.append(positions)\n",
    "                total_pos = np.vstack(positions)\n",
    "                #print(total_pos)\n",
    "                table = []\n",
    "                dictionary = {}\n",
    "                \n",
    "                max = len(\"{0:b}\".format(2**len(total_pos))) - 1\n",
    "                for i in range(2**len(total_pos)):\n",
    "                    x = (('0' * max) + \"{0:b}\".format(i))\n",
    "                    x = x[len(x)-max:]\n",
    "                    dictionary[x] = 0\n",
    "                table.append(dictionary)\n",
    "                #print(table)\n",
    "                ram.append(table)\n",
    "        \n",
    "            di = []\n",
    "            for j in range(len(ram)):\n",
    "                for i in range(len(ram[j])):\n",
    "                    for key, value in ram[j][i].items():\n",
    "                        temp = [key,value]\n",
    "                        di.append(temp)\n",
    "                        \n",
    "            discriminator.append(di)\n",
    "    \n",
    "        discriminator = np.asarray(discriminator).astype(np.int32)\n",
    "        accumulated_pos = np.asarray(accumulated_pos).astype(np.int32)\n",
    "        return discriminator, accumulated_pos\n",
    "    \n",
    "                        \n",
    "    \n",
    "    \n",
    "    @staticmethod\n",
    "    @njit(parallel = True)\n",
    "    def train_with_bleeching(d,pos,x_train, y_train):\n",
    "        \n",
    "        images = x_train\n",
    "        lable = y_train    \n",
    "        \n",
    "        for i in range(len(images)):\n",
    "            image = images[i]\n",
    "            num = lable[i]\n",
    "            all_ram_of_selected_discriminator = d[num]\n",
    "            t_ratina = pos[(int)(nodes*num):(int)(nodes*num+nodes)]\n",
    "            \n",
    "            for i in range((int)(nodes)):\n",
    "                part = all_ram_of_selected_discriminator[(ram_address_count*i):(ram_address_count*i+ram_address_count)]\n",
    "                ratina_for_one_ram = t_ratina[i]\n",
    "                \n",
    "                #threshold = 0               \n",
    "                n = []                                                                \n",
    "                for ix in range(len(ratina_for_one_ram)):\n",
    "                    pix = ratina_for_one_ram[ix]\n",
    "                    if image[(pix-1)]>=1:\n",
    "                        n.append(1)\n",
    "                        #threshold = threshold + 1     \n",
    "                    else:\n",
    "                        n.append(0)\n",
    "                \n",
    "                num = 0\n",
    "                for i in range(no_of_rand_pix_selec):\n",
    "                    num = (n[i])*(10**((no_of_rand_pix_selec-1)-i)) + num\n",
    "            \n",
    "                address_of_that_ram = (int)(num)\n",
    "                for key in range(ram_address_count):\n",
    "                    index = part[key]\n",
    "                    #if threshold >= 1:          \n",
    "                    if index[0] == address_of_that_ram:\n",
    "                        index[1] += 1\n",
    "                        print(index.shape)\n",
    "                    else:\n",
    "                        if index[1] != 0:\n",
    "                            index[1] -= 1\n",
    "\n",
    "\n",
    "\n",
    "    #@vectorize(['int32(int32,int32,int32,int32)'], target = 'cuda')\n",
    "    @staticmethod\n",
    "    @njit(parallel = True)\n",
    "    def test_with_bleaching(d,pos,x_test,y_test):\n",
    "        right = 0\n",
    "        wrong = 0\n",
    "        images = x_test\n",
    "        lable = y_test\n",
    "        ct = 0.02\n",
    "        b=1\n",
    "        \n",
    "        for i in range(len(images)):\n",
    "            image = images[i]\n",
    "            actual_lable = lable[i]\n",
    "            \n",
    "            total_sum=[]\n",
    "            \n",
    "            for ix in range(dis_number):\n",
    "                \n",
    "                t_ratina = pos[int((nodes*ix)):(int)((nodes*ix+nodes))]\n",
    "                \n",
    "                sum_of_ram_output = 0\n",
    "                dis = d[ix]\n",
    "                \n",
    "                for i in range(int(nodes)):\n",
    "                    part = dis[(ram_address_count*i):(ram_address_count*i+ram_address_count)]\n",
    "                    ratina_for_one_ram = t_ratina[i]\n",
    "                    \n",
    "                    n = []                                                                \n",
    "                    for pix in ratina_for_one_ram:\n",
    "                        if image[(pix-1)]>=1:\n",
    "                            n.append(1)\n",
    "                        else:\n",
    "                            n.append(0)\n",
    "                    \n",
    "                    num = 0\n",
    "                    for i in range(no_of_rand_pix_selec):\n",
    "                        num = (n[i])*(10**((no_of_rand_pix_selec-1)-i)) + num\n",
    "                    \n",
    "                    address_of_that_ram = (int)(num)\n",
    "                \n",
    "                    for key in range(len(part)):\n",
    "                        prt = part[key]\n",
    "                        if prt[0] == address_of_that_ram and prt[1]>=b:           #have to change this\n",
    "                            sum_of_ram_output += 1\n",
    "                \n",
    "                total_sum.append(sum_of_ram_output)        \n",
    "        \n",
    "            max_sum = 0\n",
    "            sec_max = 0\n",
    "            idx = 0\n",
    "            \n",
    "            for i in range(len(total_sum)):\n",
    "                if max_sum < total_sum[i]:\n",
    "                    max_sum = total_sum[i]\n",
    "                    idx = i\n",
    "                    \n",
    "            for j in range(len(total_sum)):\n",
    "                if sec_max < total_sum[j] and j!=idx:\n",
    "                    sec_max = total_sum[j]\n",
    "                    \n",
    "            index_of_dis = idx\n",
    "            if index_of_dis == actual_lable:\n",
    "                right += 1\n",
    "            else:\n",
    "                wrong += 1\n",
    "            \n",
    "            if max_sum == sec_max:\n",
    "                confidence = 0\n",
    "            else:\n",
    "                confidence = 1 - float(sec_max)/float(max_sum)\n",
    "                if confidence < ct:\n",
    "                    b += 1\n",
    "        \n",
    "        return right,wrong"
   ]
  },
  {
   "cell_type": "code",
   "execution_count": 28,
   "metadata": {},
   "outputs": [],
   "source": [
    "input_size = 28*28\n",
    "no_of_rand_pix_selec = 2**(3)     ## ** (must) no_of_rand_pix_selec = 2^(n) where n is 0,1,2...\n",
    "nodes = int(input_size/no_of_rand_pix_selec)    #98\n",
    "ram_address_count = 2**(no_of_rand_pix_selec)   #256\n",
    "dis_number = 10                #10 i.e number of lables"
   ]
  },
  {
   "cell_type": "code",
   "execution_count": 29,
   "metadata": {},
   "outputs": [
    {
     "name": "stdout",
     "output_type": "stream",
     "text": [
      "(60000, 28, 28)\n"
     ]
    }
   ],
   "source": [
    "(tx_train, ty_train), (tx_test, ty_test) = tf.keras.datasets.mnist.load_data()\n",
    "print(tx_train.shape)\n",
    "px_train, py_train, px_test, py_test = preprocessing(tx_train, ty_train, tx_test, ty_test)\n",
    "#print(px_train.shape)\n",
    "#print(px_train[80].shape)\n",
    "#print(px_train[80])"
   ]
  },
  {
   "cell_type": "code",
   "execution_count": 30,
   "metadata": {},
   "outputs": [
    {
     "name": "stdout",
     "output_type": "stream",
     "text": [
      "(10, 25088, 2)\n"
     ]
    }
   ],
   "source": [
    "w = WiSARDrp(input_size,no_of_rand_pix_selec,nodes,ram_address_count,dis_number)\n",
    "d, acc_pos = w.discriminator()\n",
    "print(d.shape)"
   ]
  },
  {
   "cell_type": "code",
   "execution_count": 31,
   "metadata": {},
   "outputs": [
    {
     "name": "stdout",
     "output_type": "stream",
     "text": [
      "time train =  0.37679600715637207\n"
     ]
    }
   ],
   "source": [
    "#@staticmethod\n",
    "@njit(parallel = True)\n",
    "def train_with_bleeching(d,pos,x_train, y_train):\n",
    "    indx = np.zeros((2,),dtype=np.int32)    \n",
    "    images = x_train\n",
    "    lable = y_train    \n",
    "        \n",
    "    for i in range(len(images)):\n",
    "        image = images[i]\n",
    "        num = lable[i]\n",
    "        all_ram_of_selected_discriminator = d[num]\n",
    "        t_ratina = pos[(int)(nodes*num):(int)(nodes*num+nodes)]\n",
    "        \n",
    "        for i in range((int)(nodes)):\n",
    "            part = all_ram_of_selected_discriminator[(ram_address_count*i):(ram_address_count*i+ram_address_count)]\n",
    "            ratina_for_one_ram = t_ratina[i]\n",
    "                \n",
    "                #threshold = 0               \n",
    "            n = []                                                                \n",
    "            for ix in range(len(ratina_for_one_ram)):\n",
    "                pix = ratina_for_one_ram[ix]\n",
    "                if image[(pix-1)]>=1:\n",
    "                      n.append(1)\n",
    "                        #threshold = threshold + 1     \n",
    "                else:\n",
    "                    n.append(0)\n",
    "                \n",
    "            num = 0\n",
    "            for i in range(no_of_rand_pix_selec):\n",
    "                num = (n[i])*(10**((no_of_rand_pix_selec-1)-i)) + num\n",
    "            \n",
    "            address_of_that_ram = (int)(num)\n",
    "            for key in range(ram_address_count):\n",
    "                #indx = np.zeros((2,),dtype=np.int32)\n",
    "                indx = np.zeros((2,),dtype=np.int32)\n",
    "                indx = part[key]\n",
    "                #indx = index\n",
    "                    #if threshold >= 1:          \n",
    "                if indx[0] == address_of_that_ram:\n",
    "                    x = 0\n",
    "                    #indx[1] += 1\n",
    "                     #print(index.shape)\n",
    "                else:\n",
    "                    if indx[1] != 0:\n",
    "                        x = 0\n",
    "                        #indx[1] -= 1\n",
    "\n",
    "\n",
    "starttrain = time.time()\n",
    "@njit\n",
    "def ff():\n",
    "    train_with_bleeching(d,acc_pos,px_train[0:1000],py_train[0:1000])\n",
    "\n",
    "ff()\n",
    "endtrain = time.time()\n",
    "print(\"time train = \",endtrain - starttrain)"
   ]
  },
  {
   "cell_type": "code",
   "execution_count": 37,
   "metadata": {},
   "outputs": [
    {
     "ename": "IndexError",
     "evalue": "index 470 is out of bounds for axis 0 with size 1",
     "output_type": "error",
     "traceback": [
      "\u001b[0;31m---------------------------------------------------------------------------\u001b[0m",
      "\u001b[0;31mIndexError\u001b[0m                                Traceback (most recent call last)",
      "\u001b[0;32m<ipython-input-37-58addc248d3e>\u001b[0m in \u001b[0;36m<module>\u001b[0;34m\u001b[0m\n\u001b[1;32m     79\u001b[0m \u001b[0;34m\u001b[0m\u001b[0m\n\u001b[1;32m     80\u001b[0m \u001b[0mstarttest\u001b[0m \u001b[0;34m=\u001b[0m \u001b[0mtime\u001b[0m\u001b[0;34m.\u001b[0m\u001b[0mtime\u001b[0m\u001b[0;34m(\u001b[0m\u001b[0;34m)\u001b[0m\u001b[0;34m\u001b[0m\u001b[0m\n\u001b[0;32m---> 81\u001b[0;31m \u001b[0mright\u001b[0m\u001b[0;34m,\u001b[0m\u001b[0mwrong\u001b[0m \u001b[0;34m=\u001b[0m \u001b[0mtest_with_bleaching\u001b[0m\u001b[0;34m(\u001b[0m\u001b[0md\u001b[0m\u001b[0;34m,\u001b[0m\u001b[0macc_pos\u001b[0m\u001b[0;34m,\u001b[0m\u001b[0mpx_test\u001b[0m\u001b[0;34m[\u001b[0m\u001b[0;36m0\u001b[0m\u001b[0;34m:\u001b[0m\u001b[0;36m1\u001b[0m\u001b[0;34m]\u001b[0m\u001b[0;34m,\u001b[0m\u001b[0mpy_test\u001b[0m\u001b[0;34m[\u001b[0m\u001b[0;36m0\u001b[0m\u001b[0;34m:\u001b[0m\u001b[0;36m1\u001b[0m\u001b[0;34m]\u001b[0m\u001b[0;34m)\u001b[0m\u001b[0;34m\u001b[0m\u001b[0m\n\u001b[0m\u001b[1;32m     82\u001b[0m \u001b[0mendtest\u001b[0m \u001b[0;34m=\u001b[0m \u001b[0mtime\u001b[0m\u001b[0;34m.\u001b[0m\u001b[0mtime\u001b[0m\u001b[0;34m(\u001b[0m\u001b[0;34m)\u001b[0m\u001b[0;34m\u001b[0m\u001b[0m\n\u001b[1;32m     83\u001b[0m \u001b[0mprint\u001b[0m\u001b[0;34m(\u001b[0m\u001b[0;34m\"time test = \"\u001b[0m\u001b[0;34m,\u001b[0m\u001b[0mendtest\u001b[0m \u001b[0;34m-\u001b[0m \u001b[0mstarttest\u001b[0m\u001b[0;34m)\u001b[0m\u001b[0;34m\u001b[0m\u001b[0m\n",
      "\u001b[0;32m<ipython-input-37-58addc248d3e>\u001b[0m in \u001b[0;36mtest_with_bleaching\u001b[0;34m(d, pos, x_test, y_test)\u001b[0m\n\u001b[1;32m     47\u001b[0m \u001b[0;34m\u001b[0m\u001b[0m\n\u001b[1;32m     48\u001b[0m     \u001b[0;32mfor\u001b[0m \u001b[0mix\u001b[0m \u001b[0;32min\u001b[0m \u001b[0mrange\u001b[0m\u001b[0;34m(\u001b[0m\u001b[0mdis_number\u001b[0m\u001b[0;34m)\u001b[0m\u001b[0;34m:\u001b[0m\u001b[0;34m\u001b[0m\u001b[0m\n\u001b[0;32m---> 49\u001b[0;31m          \u001b[0mdisc\u001b[0m\u001b[0;34m(\u001b[0m\u001b[0mpos\u001b[0m\u001b[0;34m,\u001b[0m\u001b[0mix\u001b[0m\u001b[0;34m,\u001b[0m\u001b[0mimage\u001b[0m\u001b[0;34m)\u001b[0m\u001b[0;34m\u001b[0m\u001b[0m\n\u001b[0m\u001b[1;32m     50\u001b[0m \u001b[0;34m\u001b[0m\u001b[0m\n\u001b[1;32m     51\u001b[0m     \u001b[0mmax_sum\u001b[0m \u001b[0;34m=\u001b[0m \u001b[0;36m0\u001b[0m\u001b[0;34m\u001b[0m\u001b[0m\n",
      "\u001b[0;32m<ipython-input-37-58addc248d3e>\u001b[0m in \u001b[0;36mdisc\u001b[0;34m(pos, ix, image)\u001b[0m\n\u001b[1;32m     12\u001b[0m         \u001b[0mn\u001b[0m \u001b[0;34m=\u001b[0m \u001b[0;34m[\u001b[0m\u001b[0;34m]\u001b[0m\u001b[0;34m\u001b[0m\u001b[0m\n\u001b[1;32m     13\u001b[0m         \u001b[0;32mfor\u001b[0m \u001b[0mpix\u001b[0m \u001b[0;32min\u001b[0m \u001b[0mratina_for_one_ram\u001b[0m\u001b[0;34m:\u001b[0m\u001b[0;34m\u001b[0m\u001b[0m\n\u001b[0;32m---> 14\u001b[0;31m             \u001b[0;32mif\u001b[0m \u001b[0mimage\u001b[0m\u001b[0;34m[\u001b[0m\u001b[0;34m(\u001b[0m\u001b[0mpix\u001b[0m\u001b[0;34m-\u001b[0m\u001b[0;36m1\u001b[0m\u001b[0;34m)\u001b[0m\u001b[0;34m]\u001b[0m\u001b[0;34m>=\u001b[0m\u001b[0;36m1\u001b[0m\u001b[0;34m:\u001b[0m\u001b[0;34m\u001b[0m\u001b[0m\n\u001b[0m\u001b[1;32m     15\u001b[0m                 \u001b[0mn\u001b[0m\u001b[0;34m.\u001b[0m\u001b[0mappend\u001b[0m\u001b[0;34m(\u001b[0m\u001b[0;36m1\u001b[0m\u001b[0;34m)\u001b[0m\u001b[0;34m\u001b[0m\u001b[0m\n\u001b[1;32m     16\u001b[0m             \u001b[0;32melse\u001b[0m\u001b[0;34m:\u001b[0m\u001b[0;34m\u001b[0m\u001b[0m\n",
      "\u001b[0;31mIndexError\u001b[0m: index 470 is out of bounds for axis 0 with size 1"
     ]
    }
   ],
   "source": [
    "#@vectorize():\n",
    "def disc(pos,ix,image):\n",
    "    t_ratina = pos[int((nodes*ix)):(int)((nodes*ix+nodes))]\n",
    "                \n",
    "    sum_of_ram_output = 0\n",
    "    dis = d[ix]\n",
    "                \n",
    "    for i in range(int(nodes)):\n",
    "        part = dis[(ram_address_count*i):(ram_address_count*i+ram_address_count)]\n",
    "        ratina_for_one_ram = t_ratina[i]\n",
    "                    \n",
    "        n = []                                                                \n",
    "        for pix in ratina_for_one_ram:\n",
    "            if image[(pix-1)]>=1:\n",
    "                n.append(1)\n",
    "            else:\n",
    "                n.append(0)\n",
    "                \n",
    "        num = 0\n",
    "        for i in range(no_of_rand_pix_selec):\n",
    "            num = (n[i])*(10**((no_of_rand_pix_selec-1)-i)) + num\n",
    "                    \n",
    "        address_of_that_ram = (int)(num)\n",
    "                \n",
    "        for key in range(len(part)):\n",
    "            prt = part[key]\n",
    "            if prt[0] == address_of_that_ram and prt[1]>=b:           #have to change this\n",
    "                sum_of_ram_output += 1\n",
    "                \n",
    "    total_sum.append(sum_of_ram_output)        \n",
    "\n",
    "\n",
    "#@njit(parallel = True)\n",
    "def test_with_bleaching(d,pos,x_test,y_test):\n",
    "    right = 0\n",
    "    wrong = 0\n",
    "    image = x_test\n",
    "    lable = y_test\n",
    "    ct = 0.02\n",
    "    b=1\n",
    "        \n",
    "    #for i in range(len(images)):\n",
    "        #image = images[i]\n",
    "    actual_lable = lable\n",
    "            \n",
    "    total_sum=[]\n",
    "            \n",
    "    for ix in range(dis_number):\n",
    "         disc(pos,ix,image)\n",
    "            \n",
    "    max_sum = 0\n",
    "    sec_max = 0\n",
    "    idx = 0\n",
    "            \n",
    "    for i in range(len(total_sum)):\n",
    "        if max_sum < total_sum[i]:\n",
    "            max_sum = total_sum[i]\n",
    "            idx = i\n",
    "                    \n",
    "    for j in range(len(total_sum)):\n",
    "        if sec_max < total_sum[j] and j!=idx:\n",
    "            sec_max = total_sum[j]\n",
    "                    \n",
    "    index_of_dis = idx\n",
    "    if index_of_dis == actual_lable:\n",
    "        right += 1\n",
    "    else:\n",
    "        wrong += 1\n",
    "            \n",
    "    if max_sum == sec_max:\n",
    "        confidence = 0\n",
    "    else:\n",
    "        confidence = 1 - float(sec_max)/float(max_sum)\n",
    "        if confidence < ct:\n",
    "            b += 1\n",
    "        \n",
    "    return right,wrong        \n",
    "\n",
    "\n",
    "starttest = time.time()\n",
    "right,wrong = test_with_bleaching(d,acc_pos,px_test[0:1],py_test[0:1])\n",
    "endtest = time.time()\n",
    "print(\"time test = \",endtest - starttest)"
   ]
  },
  {
   "cell_type": "code",
   "execution_count": 9,
   "metadata": {},
   "outputs": [
    {
     "name": "stdout",
     "output_type": "stream",
     "text": [
      "number of right result =  8\n",
      "number of wrong results =  92\n",
      "accuracy by testing the model = 8.0\n"
     ]
    }
   ],
   "source": [
    "print(\"number of right result = \",right)\n",
    "print(\"number of wrong results = \",wrong)\n",
    "accuracy = ((right)/(right+wrong))*100\n",
    "print(\"accuracy by testing the model =\",accuracy)\n",
    "#    end = time.time()\n",
    "#    print(\"total time = \",end - start)"
   ]
  },
  {
   "cell_type": "code",
   "execution_count": null,
   "metadata": {},
   "outputs": [],
   "source": []
  },
  {
   "cell_type": "code",
   "execution_count": null,
   "metadata": {},
   "outputs": [],
   "source": []
  },
  {
   "cell_type": "code",
   "execution_count": null,
   "metadata": {},
   "outputs": [],
   "source": []
  },
  {
   "cell_type": "code",
   "execution_count": null,
   "metadata": {},
   "outputs": [],
   "source": []
  },
  {
   "cell_type": "code",
   "execution_count": null,
   "metadata": {},
   "outputs": [],
   "source": []
  },
  {
   "cell_type": "code",
   "execution_count": 178,
   "metadata": {},
   "outputs": [],
   "source": [
    "stabilityqueue = np.zeros((10,10,10,3),dtype=np.int32)"
   ]
  },
  {
   "cell_type": "code",
   "execution_count": 179,
   "metadata": {},
   "outputs": [],
   "source": [
    "a = np.zeros((10),dtype=np.int32)"
   ]
  },
  {
   "cell_type": "code",
   "execution_count": 180,
   "metadata": {},
   "outputs": [],
   "source": [
    "for i in range(10):\n",
    "    a[i] = i"
   ]
  },
  {
   "cell_type": "code",
   "execution_count": 181,
   "metadata": {},
   "outputs": [
    {
     "data": {
      "text/plain": [
       "array([0, 1, 2, 3, 4, 5, 6, 7, 8, 9], dtype=int32)"
      ]
     },
     "execution_count": 181,
     "metadata": {},
     "output_type": "execute_result"
    }
   ],
   "source": [
    "a"
   ]
  },
  {
   "cell_type": "code",
   "execution_count": 183,
   "metadata": {},
   "outputs": [
    {
     "data": {
      "text/plain": [
       "array([ 5,  6,  7,  8,  9, 10, 11, 12, 13, 14])"
      ]
     },
     "execution_count": 183,
     "metadata": {},
     "output_type": "execute_result"
    }
   ],
   "source": [
    "a1 = [5]\n",
    "c = a1 + a\n",
    "c"
   ]
  },
  {
   "cell_type": "code",
   "execution_count": 175,
   "metadata": {},
   "outputs": [
    {
     "name": "stdout",
     "output_type": "stream",
     "text": [
      "0\n"
     ]
    }
   ],
   "source": [
    "front = a[0]\n",
    "print(front)"
   ]
  },
  {
   "cell_type": "code",
   "execution_count": 162,
   "metadata": {},
   "outputs": [],
   "source": [
    "def roll(tem):\n",
    "    c = np.roll(tem,1)\n",
    "    return(c)"
   ]
  },
  {
   "cell_type": "code",
   "execution_count": 156,
   "metadata": {},
   "outputs": [
    {
     "name": "stdout",
     "output_type": "stream",
     "text": [
      "[9 0 1 2 3 4 5 6 7 8]\n"
     ]
    }
   ],
   "source": [
    "print(roll(a))"
   ]
  },
  {
   "cell_type": "code",
   "execution_count": null,
   "metadata": {},
   "outputs": [],
   "source": [
    "for i in range(10):\n",
    "    if a[i] == 6 :  \n",
    "        roll(a)\n",
    "        a[0] = 6"
   ]
  },
  {
   "cell_type": "code",
   "execution_count": 12,
   "metadata": {},
   "outputs": [
    {
     "name": "stdout",
     "output_type": "stream",
     "text": [
      "[ 10  20  30  40  50  60  70  80  90 100]\n",
      "[ 40  10  20  30  50  60  70  80  90 100]\n"
     ]
    }
   ],
   "source": [
    "import numpy as np\n",
    "x = np.array([10, 20, 30, 40, 50, 60, 70, 80, 90, 100])\n",
    "print(x)\n",
    "\n",
    "#@njit     it wont work in njit\n",
    "def ad():\n",
    "    for i in range(len(x)):\n",
    "        if x[i] == 40:\n",
    "            new_x = np.delete(x, i)\n",
    "            new_y = np.insert(new_x,0,40)\n",
    "            print(new_y)\n",
    "            \n",
    "ad()"
   ]
  },
  {
   "cell_type": "code",
   "execution_count": 15,
   "metadata": {},
   "outputs": [
    {
     "data": {
      "text/plain": [
       "array([[5, 6, 7, 8]])"
      ]
     },
     "execution_count": 15,
     "metadata": {},
     "output_type": "execute_result"
    }
   ],
   "source": [
    "@njit\n",
    "def delete_workaround(arr, num):\n",
    "    mask = np.zeros(arr.shape[0], dtype=np.int64) == 0\n",
    "    mask[np.where(arr == num)[0]] = False\n",
    "    return arr[mask]\n",
    "\n",
    "a = np.array([[1,2,3,4],[5,6,7,8]])\n",
    "\n",
    "delete_workaround(a, 3)"
   ]
  },
  {
   "cell_type": "code",
   "execution_count": 31,
   "metadata": {
    "scrolled": true
   },
   "outputs": [
    {
     "name": "stdout",
     "output_type": "stream",
     "text": [
      "[[9 1 2]\n",
      " [0 0 0]\n",
      " [0 0 0]\n",
      " [0 0 0]]\n"
     ]
    }
   ],
   "source": [
    "x = np.array([9,1,2])\n",
    "@njit\n",
    "def delete_workaround(arr):\n",
    "    b = np.roll(a,3)\n",
    "    b[0] = x\n",
    "    return b\n",
    "\n",
    "a = np.zeros((4,3),dtype=np.int32)\n",
    "\n",
    "print(delete_workaround(a))"
   ]
  },
  {
   "cell_type": "code",
   "execution_count": 3,
   "metadata": {},
   "outputs": [
    {
     "name": "stdout",
     "output_type": "stream",
     "text": [
      "[[0 0 0]\n",
      " [1 2 3]\n",
      " [2 3 4]\n",
      " [0 0 0]]\n",
      "[[4 3 2]\n",
      " [0 0 0]\n",
      " [1 2 3]\n",
      " [0 0 0]]\n"
     ]
    }
   ],
   "source": [
    "x = np.array([2,3,4], dtype=np.int64)\n",
    "y = np.array([4,3,2], dtype=np.int64)\n",
    "#@vectorize([int64(int64, int64)])\n",
    "#@jit\n",
    "@njit\n",
    "def ifInQueue(arr,x):\n",
    "    c = np.zeros((4,3),dtype=np.int64)\n",
    "    for i in range(len(a)): \n",
    "        if a[i][0] == x[0] and a[i][1] == x[1] and a[i][2] == x[2]:\n",
    "            b = np.roll(a[:i+1],3)\n",
    "            b[0]=y\n",
    "            c[:i+1] = b\n",
    "            c[i+2:] = a[i+2:]\n",
    "    return c        \n",
    "\n",
    "a = np.zeros((4,3),dtype=np.int64)\n",
    "b = np.zeros((4,3),dtype=np.int64)\n",
    "c = np.zeros((4,3),dtype=np.int64)\n",
    "a[1]=[1,2,3]\n",
    "a[2]=[2,3,4]\n",
    "print(a)\n",
    "print(ifInQueue(a,x))"
   ]
  },
  {
   "cell_type": "code",
   "execution_count": 103,
   "metadata": {},
   "outputs": [
    {
     "ename": "IndentationError",
     "evalue": "expected an indented block (<ipython-input-103-adad0dbf96ce>, line 18)",
     "output_type": "error",
     "traceback": [
      "\u001b[0;36m  File \u001b[0;32m\"<ipython-input-103-adad0dbf96ce>\"\u001b[0;36m, line \u001b[0;32m18\u001b[0m\n\u001b[0;31m    return x\u001b[0m\n\u001b[0m    ^\u001b[0m\n\u001b[0;31mIndentationError\u001b[0m\u001b[0;31m:\u001b[0m expected an indented block\n"
     ]
    }
   ],
   "source": [
    "x = np.array([2,3,4], dtype=np.int64)\n",
    "y = np.array([4,3,2], dtype=np.int64)\n",
    "@vectorize([int64(int64, int64)])\n",
    "def delete_workaround(arr,x): \n",
    "    print(arr,x)\n",
    "    for i in range(10):\n",
    "         if a[i-2] == x[i-2] and a == x and a == x:\n",
    "#         print(a[:i+1])\n",
    "#         b = np.roll(a[:i+1],3)\n",
    "#         print(b)\n",
    "#         b[0]=y\n",
    "#         print(c[:i+1])\n",
    "#         print(b)\n",
    "#         c[:i+1] = b\n",
    "#         #print(c)\n",
    "#         c[i+2:] = a[i+2:]\n",
    "#         #print(c)\n",
    "    return x        \n",
    "\n",
    "a = np.zeros((4,3),dtype=np.int64)\n",
    "b = np.zeros((4,3),dtype=np.int64)\n",
    "c = np.zeros((4,3),dtype=np.int64)\n",
    "a[1]=[1,2,3]\n",
    "a[2]=[2,3,4]\n",
    "print(a.dtype)\n",
    "print(x.dtype)\n",
    "#print(a[0][0], a[0][1], len(a))\n",
    "print(delete_workaround(a,x))"
   ]
  },
  {
   "cell_type": "code",
   "execution_count": null,
   "metadata": {},
   "outputs": [],
   "source": []
  },
  {
   "cell_type": "code",
   "execution_count": null,
   "metadata": {},
   "outputs": [],
   "source": []
  },
  {
   "cell_type": "code",
   "execution_count": null,
   "metadata": {},
   "outputs": [],
   "source": []
  },
  {
   "cell_type": "code",
   "execution_count": 148,
   "metadata": {},
   "outputs": [],
   "source": [
    "def cyclicRotate(input): \n",
    "       \n",
    "     # slice list in two parts and append \n",
    "     # last element in front of the sliced list \n",
    "       \n",
    "     # [input[-1]] --> converts last element pf array into list \n",
    "     # to append in front of sliced list \n",
    "  \n",
    "     # input[0:-1] --> list of elements except last element \n",
    "     print ([input[-1:]] + input[0:-1]) "
   ]
  },
  {
   "cell_type": "code",
   "execution_count": 149,
   "metadata": {},
   "outputs": [
    {
     "name": "stdout",
     "output_type": "stream",
     "text": [
      "[[ 9 10 11 12 13 14 15 16 17]]\n"
     ]
    }
   ],
   "source": [
    "cyclicRotate(a)"
   ]
  },
  {
   "cell_type": "code",
   "execution_count": 176,
   "metadata": {},
   "outputs": [],
   "source": [
    "#Rotate the given array by n times toward left\n",
    "def ror(arr,n):\n",
    "    for i in range(0, n):    \n",
    "    #Stores the first element of the array    \n",
    "        first = arr[0];    \n",
    "            \n",
    "        for j in range(0, len(arr)-1):    \n",
    "        #Shift element of array by one    \n",
    "            arr[j] = arr[j+1]\n",
    "            \n",
    "        #First element of array will be added to the end    \n",
    "        arr[len(arr)-1] = first\n",
    "    return(arr)    "
   ]
  },
  {
   "cell_type": "code",
   "execution_count": 177,
   "metadata": {},
   "outputs": [
    {
     "name": "stdout",
     "output_type": "stream",
     "text": [
      "[1 2 3 4 5 6 7 8 9 0]\n"
     ]
    }
   ],
   "source": [
    "print(ror(a,1))"
   ]
  },
  {
   "cell_type": "code",
   "execution_count": 123,
   "metadata": {},
   "outputs": [],
   "source": [
    "def rorm(test_list):\n",
    "    test_list = test_list[-1:] + test_list[:-1]\n",
    "    return(test_list)"
   ]
  },
  {
   "cell_type": "code",
   "execution_count": 124,
   "metadata": {},
   "outputs": [
    {
     "name": "stdout",
     "output_type": "stream",
     "text": [
      "[ 9 10 11 12 13 14 15 16 17]\n"
     ]
    }
   ],
   "source": [
    "print(rorm(a))"
   ]
  },
  {
   "cell_type": "code",
   "execution_count": null,
   "metadata": {},
   "outputs": [],
   "source": []
  },
  {
   "cell_type": "code",
   "execution_count": null,
   "metadata": {},
   "outputs": [],
   "source": []
  },
  {
   "cell_type": "code",
   "execution_count": 80,
   "metadata": {},
   "outputs": [
    {
     "name": "stdout",
     "output_type": "stream",
     "text": [
      "[0 1 2 3 4 5 6 7 8 9]\n",
      "[0 1 2 3 4 5 6 7 8 9]\n"
     ]
    }
   ],
   "source": [
    "for i in range(10):\n",
    "    if a[i] == 6 :\n",
    "        print(a)\n",
    "        roll(a)\n",
    "        print(a)\n",
    "        a[0] = 6"
   ]
  },
  {
   "cell_type": "code",
   "execution_count": 81,
   "metadata": {},
   "outputs": [
    {
     "data": {
      "text/plain": [
       "array([6, 1, 2, 3, 4, 5, 6, 7, 8, 9], dtype=int32)"
      ]
     },
     "execution_count": 81,
     "metadata": {},
     "output_type": "execute_result"
    }
   ],
   "source": [
    "a"
   ]
  },
  {
   "cell_type": "code",
   "execution_count": 102,
   "metadata": {},
   "outputs": [
    {
     "name": "stdout",
     "output_type": "stream",
     "text": [
      "The original list is : [1, 4, 5, 6, 7, 8, 9, 12]\n",
      "The list after shift is : [12, 1, 4, 5, 6, 7, 8, 9]\n"
     ]
    }
   ],
   "source": [
    "test_list = [1, 4, 5, 6, 7, 8, 9, 12] \n",
    "  \n",
    "# printing the original list \n",
    "print (\"The original list is : \" + str(test_list)) \n",
    "  \n",
    "# using list slicing and \"+\" operator \n",
    "# shift last element to first \n",
    "test_list = test_list[-1:] + test_list[:-1]  \n",
    "  \n",
    "# printing result \n",
    "print (\"The list after shift is : \" + str(test_list)) "
   ]
  },
  {
   "cell_type": "code",
   "execution_count": null,
   "metadata": {},
   "outputs": [],
   "source": []
  },
  {
   "cell_type": "code",
   "execution_count": 111,
   "metadata": {},
   "outputs": [
    {
     "name": "stdout",
     "output_type": "stream",
     "text": [
      "[9, 0, 1, 2, 3, 4, 5, 6, 7, 8]\n"
     ]
    }
   ],
   "source": [
    "def rightRotate(lists, num): \n",
    "    output_list = [] \n",
    "      \n",
    "    # Will add values from n to the new list \n",
    "    for item in range(len(lists) - num, len(lists)): \n",
    "        output_list.append(lists[item]) \n",
    "      \n",
    "    # Will add the values before \n",
    "    # n to the end of new list     \n",
    "    for item in range(0, len(lists) - num):  \n",
    "        output_list.append(lists[item]) \n",
    "          \n",
    "    return output_list \n",
    "  \n",
    "# Driver Code \n",
    "rotate_num = 1\n",
    "list_1 = [1, 2, 3, 4, 5, 6] \n",
    "  \n",
    "print(rightRotate(a, rotate_num)) "
   ]
  },
  {
   "cell_type": "code",
   "execution_count": 112,
   "metadata": {},
   "outputs": [
    {
     "data": {
      "text/plain": [
       "array([0, 1, 2, 3, 4, 5, 6, 7, 8, 9], dtype=int32)"
      ]
     },
     "execution_count": 112,
     "metadata": {},
     "output_type": "execute_result"
    }
   ],
   "source": [
    "a"
   ]
  },
  {
   "cell_type": "code",
   "execution_count": null,
   "metadata": {},
   "outputs": [],
   "source": []
  },
  {
   "cell_type": "code",
   "execution_count": null,
   "metadata": {},
   "outputs": [],
   "source": []
  },
  {
   "cell_type": "code",
   "execution_count": 22,
   "metadata": {
    "scrolled": false
   },
   "outputs": [
    {
     "name": "stdout",
     "output_type": "stream",
     "text": [
      "[[[117  56  12]\n",
      "  [117  57  11]\n",
      "  [119  57  11]\n",
      "  ...\n",
      "  [119  55   7]\n",
      "  [119  55   7]\n",
      "  [119  55   7]]\n",
      "\n",
      " [[113  54   9]\n",
      "  [113  54   9]\n",
      "  [115  55   9]\n",
      "  ...\n",
      "  [120  57   7]\n",
      "  [120  57   7]\n",
      "  [120  57   7]]\n",
      "\n",
      " [[106  48   6]\n",
      "  [107  50   5]\n",
      "  [109  50   4]\n",
      "  ...\n",
      "  [125  61   7]\n",
      "  [125  61   7]\n",
      "  [125  61   7]]\n",
      "\n",
      " ...\n",
      "\n",
      " [[111  52   7]\n",
      "  [111  52   7]\n",
      "  [111  52   7]\n",
      "  ...\n",
      "  [205 124  33]\n",
      "  [205 124  33]\n",
      "  [204 123  32]]\n",
      "\n",
      " [[111  52   7]\n",
      "  [111  52   7]\n",
      "  [111  52   7]\n",
      "  ...\n",
      "  [206 125  34]\n",
      "  [206 125  34]\n",
      "  [205 124  33]]\n",
      "\n",
      " [[109  51   9]\n",
      "  [109  51   9]\n",
      "  [109  52   7]\n",
      "  ...\n",
      "  [207 126  35]\n",
      "  [207 126  35]\n",
      "  [206 125  34]]]\n",
      "[[ 50  50  50 ...  48  48  48]\n",
      " [ 47  47  48 ...  49  49  49]\n",
      " [ 42  43  43 ...  52  52  52]\n",
      " ...\n",
      " [ 45  45  45 ... 106 106 105]\n",
      " [ 45  45  45 ... 107 107 106]\n",
      " [ 45  45  45 ... 108 108 107]]\n",
      "[[0 0 0 ... 0 0 0]\n",
      " [0 0 0 ... 0 0 0]\n",
      " [0 0 0 ... 0 0 0]\n",
      " ...\n",
      " [0 0 0 ... 0 0 0]\n",
      " [0 0 0 ... 0 0 0]\n",
      " [0 0 0 ... 0 0 0]]\n",
      "[[1. 1. 1. ... 1. 1. 1.]\n",
      " [1. 1. 1. ... 1. 1. 1.]\n",
      " [1. 1. 1. ... 1. 1. 1.]\n",
      " ...\n",
      " [1. 1. 1. ... 1. 1. 1.]\n",
      " [1. 1. 1. ... 1. 1. 1.]\n",
      " [1. 1. 1. ... 1. 1. 1.]]\n"
     ]
    }
   ],
   "source": [
    "import cv2\n",
    "  \n",
    "originalImage = cv2.imread('rose.jpeg')\n",
    "print(originalImage)\n",
    "grayImage = cv2.cvtColor(originalImage, cv2.COLOR_BGR2GRAY)\n",
    "print(grayImage)  \n",
    "(thresh, blackAndWhiteImage) = cv2.threshold(grayImage, 127, 255, cv2.THRESH_BINARY)\n",
    " \n",
    "cv2.imshow('Black white image', blackAndWhiteImage)\n",
    "print(blackAndWhiteImage)\n",
    "cv2.imshow('Original image',originalImage)\n",
    "cv2.imshow('Gray image', grayImage)\n",
    "out = np.ones((240,256),dtype=np.float64)\n",
    "cv2.imshow('out', out)\n",
    "print(out)\n",
    "  \n",
    "cv2.waitKey(0)\n",
    "cv2.destroyAllWindows()"
   ]
  },
  {
   "cell_type": "code",
   "execution_count": null,
   "metadata": {},
   "outputs": [],
   "source": []
  },
  {
   "cell_type": "code",
   "execution_count": null,
   "metadata": {},
   "outputs": [],
   "source": []
  },
  {
   "cell_type": "code",
   "execution_count": null,
   "metadata": {},
   "outputs": [],
   "source": []
  },
  {
   "cell_type": "code",
   "execution_count": null,
   "metadata": {},
   "outputs": [],
   "source": []
  }
 ],
 "metadata": {
  "kernelspec": {
   "display_name": "Python 3",
   "language": "python",
   "name": "python3"
  },
  "language_info": {
   "codemirror_mode": {
    "name": "ipython",
    "version": 3
   },
   "file_extension": ".py",
   "mimetype": "text/x-python",
   "name": "python",
   "nbconvert_exporter": "python",
   "pygments_lexer": "ipython3",
   "version": "3.6.6"
  }
 },
 "nbformat": 4,
 "nbformat_minor": 2
}
